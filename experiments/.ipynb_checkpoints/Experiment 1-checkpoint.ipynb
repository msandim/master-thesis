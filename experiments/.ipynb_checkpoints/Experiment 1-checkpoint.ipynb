{
 "cells": [
  {
   "cell_type": "markdown",
   "metadata": {
    "deletable": true,
    "editable": true
   },
   "source": [
    "# Experiment 1\n",
    "Miguel Sandim, 27/03/2017\n",
    "\n",
    "## Algorithms\n",
    "- One-class SVM\n",
    "- LOF\n",
    "- DBSCAN\n",
    "- Multivariate Guassian distribution\n",
    "\n",
    "## Combiner Methodology\n",
    "- Stacking with Logistic Regression\n",
    "\n",
    "## Evaluation Methodology\n",
    "- ROC-AUC with 10-fold cross validation\n",
    "\n",
    "## Datasets\n",
    "\n",
    "All the duplicate instances in each dataset were removed (may have problems with LOF).\n",
    "\n",
    "- ALOI\n",
    "- KDDCup99\n"
   ]
  },
  {
   "cell_type": "code",
   "execution_count": 1,
   "metadata": {
    "collapsed": false,
    "deletable": true,
    "editable": true
   },
   "outputs": [
    {
     "name": "stderr",
     "output_type": "stream",
     "text": [
      "\n",
      "Attaching package: 'dplyr'\n",
      "\n",
      "The following objects are masked from 'package:stats':\n",
      "\n",
      "    filter, lag\n",
      "\n",
      "The following objects are masked from 'package:base':\n",
      "\n",
      "    intersect, setdiff, setequal, union\n",
      "\n",
      "Loading required package: lattice\n"
     ]
    }
   ],
   "source": [
    "setwd(\"~/master-thesis\")\n",
    "set.seed(20)\n",
    "library(ggplot2)\n",
    "library(dplyr)\n",
    "library(caret)"
   ]
  },
  {
   "cell_type": "markdown",
   "metadata": {
    "deletable": true,
    "editable": true
   },
   "source": [
    "### Divided the dataset in 10 folds, each fold with 0.4% outliers (in KDDCup99) and 4% outliers (in ALOI)"
   ]
  },
  {
   "cell_type": "code",
   "execution_count": 2,
   "metadata": {
    "collapsed": false,
    "deletable": true,
    "editable": true
   },
   "outputs": [
    {
     "data": {
      "text/html": [
       "<ol class=list-inline>\n",
       "\t<li>48113</li>\n",
       "\t<li>81</li>\n",
       "</ol>\n"
      ],
      "text/latex": [
       "\\begin{enumerate*}\n",
       "\\item 48113\n",
       "\\item 81\n",
       "\\end{enumerate*}\n"
      ],
      "text/markdown": [
       "1. 48113\n",
       "2. 81\n",
       "\n",
       "\n"
      ],
      "text/plain": [
       "[1] 48113    81"
      ]
     },
     "metadata": {},
     "output_type": "display_data"
    },
    {
     "data": {
      "text/html": [
       "<ol class=list-inline>\n",
       "\t<li>49534</li>\n",
       "\t<li>29</li>\n",
       "</ol>\n"
      ],
      "text/latex": [
       "\\begin{enumerate*}\n",
       "\\item 49534\n",
       "\\item 29\n",
       "\\end{enumerate*}\n"
      ],
      "text/markdown": [
       "1. 49534\n",
       "2. 29\n",
       "\n",
       "\n"
      ],
      "text/plain": [
       "[1] 49534    29"
      ]
     },
     "metadata": {},
     "output_type": "display_data"
    }
   ],
   "source": [
    "# Load data\n",
    "data_kddcup <- read.csv(\"datasets_processed/KDDCup99.csv\")\n",
    "data_aloi <- read.csv(\"datasets_processed/ALOI.csv\")\n",
    "dim(data_kddcup)\n",
    "dim(data_aloi)"
   ]
  },
  {
   "cell_type": "code",
   "execution_count": 3,
   "metadata": {
    "collapsed": true,
    "deletable": true,
    "editable": true
   },
   "outputs": [],
   "source": [
    "createStratCV <- function(data, k_value = 10)\n",
    "{\n",
    "  folds <- createFolds(data$outlier, k = k_value, list = TRUE, returnTrain = FALSE)\n",
    "  folds_index <- lapply(folds, function(f) data[f, \"id\"])\n",
    "}"
   ]
  },
  {
   "cell_type": "code",
   "execution_count": 4,
   "metadata": {
    "collapsed": false,
    "deletable": true,
    "editable": true
   },
   "outputs": [],
   "source": [
    "folds_kddcup <- createStratCV(data_kddcup, k_value = 5)"
   ]
  },
  {
   "cell_type": "code",
   "execution_count": 5,
   "metadata": {
    "collapsed": true,
    "deletable": true,
    "editable": true
   },
   "outputs": [],
   "source": [
    "folds_aloi <- createStratCV(data_aloi, k_value = 5)"
   ]
  },
  {
   "cell_type": "code",
   "execution_count": 6,
   "metadata": {
    "collapsed": false,
    "deletable": true,
    "editable": true
   },
   "outputs": [
    {
     "data": {
      "text/plain": [
       "\n",
       "  no  yes \n",
       "7818   30 "
      ]
     },
     "metadata": {},
     "output_type": "display_data"
    }
   ],
   "source": [
    "table(data_kddcup[folds_kddcup[[1]], \"outlier\"])"
   ]
  },
  {
   "cell_type": "code",
   "execution_count": 7,
   "metadata": {
    "collapsed": false,
    "deletable": true,
    "editable": true
   },
   "outputs": [
    {
     "data": {
      "text/plain": [
       "\n",
       "       no       yes \n",
       "99.617737  0.382263 "
      ]
     },
     "metadata": {},
     "output_type": "display_data"
    }
   ],
   "source": [
    "prop.table(table(data_kddcup[folds_kddcup[[1]], \"outlier\"])) * 100"
   ]
  },
  {
   "cell_type": "code",
   "execution_count": 8,
   "metadata": {
    "collapsed": false,
    "deletable": true,
    "editable": true
   },
   "outputs": [
    {
     "name": "stdout",
     "output_type": "stream",
     "text": [
      "List of 5\n",
      " $ Fold1: int [1:9622] 1 4 5 17 18 27 30 33 34 38 ...\n",
      " $ Fold2: int [1:9623] 14 15 23 32 47 50 74 75 76 82 ...\n",
      " $ Fold3: int [1:9622] 10 11 13 25 26 41 45 48 49 59 ...\n",
      " $ Fold4: int [1:9623] 9 12 19 36 37 42 44 51 54 56 ...\n",
      " $ Fold5: int [1:9623] 6 7 8 16 20 22 24 28 29 31 ...\n"
     ]
    }
   ],
   "source": [
    "str(folds_kddcup)"
   ]
  },
  {
   "cell_type": "markdown",
   "metadata": {
    "deletable": true,
    "editable": true
   },
   "source": [
    "### Cross-validation Evaluation"
   ]
  },
  {
   "cell_type": "code",
   "execution_count": 9,
   "metadata": {
    "collapsed": false,
    "deletable": true,
    "editable": true
   },
   "outputs": [
    {
     "data": {
      "text/html": [
       "TRUE"
      ],
      "text/latex": [
       "TRUE"
      ],
      "text/markdown": [
       "TRUE"
      ],
      "text/plain": [
       "[1] TRUE"
      ]
     },
     "metadata": {},
     "output_type": "display_data"
    }
   ],
   "source": [
    "# Unit test: train and test should be exclusive:\n",
    "evaluateDataset <- function(data_folds_id)\n",
    "{\n",
    "  results <- lapply(names(data_folds_id),\n",
    "    function(fold) # fold is the name of the fold\n",
    "    {\n",
    "      train <- stack(data_folds_id[names(data_folds_id) != fold])$values\n",
    "      test <- data_folds_id[[fold]]\n",
    "      list(train = train, test = test)\n",
    "    })\n",
    "}\n",
    "\n",
    "results <- evaluateDataset(folds_kddcup)\n",
    "all(sapply(results, function(x) length(intersect(x$train, x$test)) == 0 && !is.null(x$train) && !is.null(x$test)))\n",
    "rm(results)\n",
    "rm(evaluateDataset)"
   ]
  },
  {
   "cell_type": "code",
   "execution_count": 10,
   "metadata": {
    "collapsed": false,
    "deletable": true,
    "editable": true
   },
   "outputs": [
    {
     "name": "stderr",
     "output_type": "stream",
     "text": [
      "Package 'mclust' version 5.2.3\n",
      "Type 'citation(\"mclust\")' for citing this R package in publications.\n"
     ]
    }
   ],
   "source": [
    "library(dbscan)\n",
    "library(e1071)\n",
    "library(mclust)"
   ]
  },
  {
   "cell_type": "markdown",
   "metadata": {
    "deletable": true,
    "editable": true
   },
   "source": [
    "#### Details:\n",
    "![title](http://i.imgur.com/Pn3g3cr.png)"
   ]
  },
  {
   "cell_type": "code",
   "execution_count": 61,
   "metadata": {
    "collapsed": false,
    "deletable": true,
    "editable": true
   },
   "outputs": [],
   "source": [
    "getFeatures <- function(data, data_folds_id)\n",
    "{\n",
    "  results <- lapply(names(data_folds_id) %>% first, # Only doing for the first fold for now\n",
    "    function(fold_name)\n",
    "    {\n",
    "      # Train data: all the folds except the current fold\n",
    "      train <- stack(data_folds_id[names(data_folds_id) != fold_name])$values\n",
    "      \n",
    "      # Train with inliers: half of the inliers in the train data\n",
    "      train_inliers <- data %>%\n",
    "        filter(id %in% train & outlier == \"no\") %>% .$id %>%\n",
    "        sample(., size = length(.) / 2)\n",
    "      \n",
    "      # Train ensemble: the rest of the data\n",
    "      train_ensemble <- setdiff(train, train_inliers)\n",
    "      \n",
    "      test <- data_folds_id[[fold_name]]\n",
    "      \n",
    "      print(paste0(\"total_train: \", length(train), \" inliers: \", length(train_inliers), \" ensemble: \", length(train_ensemble), \" test: \", length(test)))\n",
    "      \n",
    "      # Remove class column:\n",
    "      train_inliers_data <- data %>% filter(id %in% train_inliers)\n",
    "      train_ensemble_data <- data %>% filter(id %in% train_ensemble)\n",
    "      test_data <- data %>% filter(id %in% test)\n",
    "      \n",
    "      print(dim(train_inliers_data))\n",
    "      \n",
    "      #stopifnot(all(train_inliers_data$outlier == \"no\"))\n",
    "      \n",
    "      ## Convension 1 - Outlier, 0 - Non-outlier\n",
    "      # Unsupervised Algorithms:\n",
    "      alg1_results <- (dbscan(as.matrix(select(train_ensemble_data, -outlier)), eps = 0.3, minPts = 10)$cluster == 0) %>% as.numeric\n",
    "      alg2_results <- lof(select(train_ensemble_data, -outlier), k = 3)\n",
    "      message(\"*   Finished unsupervised algorithms\")\n",
    "      \n",
    "      # Supervised or Semi-Supervised Algorithms:  \n",
    "      alg3_model <- svm(select(train_inliers_data, -outlier), type='one-classification', scale = FALSE)\n",
    "      alg3_results <- predict(alg3_model, select(train_ensemble_data, -outlier)) %>% `!`(.) %>% as.numeric # True => Not outlier\n",
    "      #message(\"*   Finished One-class SVM\")\n",
    "      #alg4_model <- \n",
    "      message(\"*** Finished fold\")\n",
    "      \n",
    "      # Add prediction to the original dataset:\n",
    "      train_ensemble_data <- train_ensemble_data %>% mutate(dbscan = alg1_results, lof = alg2_results, svm = alg3_results)\n",
    "      \n",
    "      return(list(train_ensemble_data, train_ensemble_data, test_data))\n",
    "    })\n",
    "}"
   ]
  },
  {
   "cell_type": "code",
   "execution_count": 62,
   "metadata": {
    "collapsed": false,
    "deletable": true,
    "editable": true,
    "scrolled": true
   },
   "outputs": [
    {
     "name": "stdout",
     "output_type": "stream",
     "text": [
      "[1] \"total_train: 38491 inliers: 19165 ensemble: 19326 test: 9622\"\n",
      "[1] 19165    81\n"
     ]
    },
    {
     "name": "stderr",
     "output_type": "stream",
     "text": [
      "*   Finished unsupervised algorithms\n",
      "*** Finished fold\n"
     ]
    }
   ],
   "source": [
    "x <- getFeatures(data_kddcup, folds_kddcup)"
   ]
  },
  {
   "cell_type": "code",
   "execution_count": 63,
   "metadata": {
    "collapsed": false,
    "deletable": true,
    "editable": true
   },
   "outputs": [
    {
     "data": {
      "text/plain": [
       " protocol_type...udp protocol_type...tcp protocol_type...icmp service...private\n",
       " Min.   :0.00000     Min.   :0.0000      Min.   :0.000000     Min.   :0.00000  \n",
       " 1st Qu.:0.00000     1st Qu.:1.0000      1st Qu.:0.000000     1st Qu.:0.00000  \n",
       " Median :0.00000     Median :1.0000      Median :0.000000     Median :0.00000  \n",
       " Mean   :0.07932     Mean   :0.9145      Mean   :0.006157     Mean   :0.02442  \n",
       " 3rd Qu.:0.00000     3rd Qu.:1.0000      3rd Qu.:0.000000     3rd Qu.:0.00000  \n",
       " Max.   :1.00000     Max.   :1.0000      Max.   :1.000000     Max.   :1.00000  \n",
       " service...domain_u service...http   service...smtp    service...ftp_data\n",
       " Min.   :0.00000    Min.   :0.0000   Min.   :0.00000   Min.   :0.00000   \n",
       " 1st Qu.:0.00000    1st Qu.:1.0000   1st Qu.:0.00000   1st Qu.:0.00000   \n",
       " Median :0.00000    Median :1.0000   Median :0.00000   Median :0.00000   \n",
       " Mean   :0.05547    Mean   :0.8116   Mean   :0.06375   Mean   :0.02173   \n",
       " 3rd Qu.:0.00000    3rd Qu.:1.0000   3rd Qu.:0.00000   3rd Qu.:0.00000   \n",
       " Max.   :1.00000    Max.   :1.0000   Max.   :1.00000   Max.   :1.00000   \n",
       " service...ftp     service...eco_i     service...other   service...auth    \n",
       " Min.   :0.00000   Min.   :0.0000000   Min.   :0.00000   Min.   :0.000000  \n",
       " 1st Qu.:0.00000   1st Qu.:0.0000000   1st Qu.:0.00000   1st Qu.:0.000000  \n",
       " Median :0.00000   Median :0.0000000   Median :0.00000   Median :0.000000  \n",
       " Mean   :0.00357   Mean   :0.0006209   Mean   :0.00238   Mean   :0.001863  \n",
       " 3rd Qu.:0.00000   3rd Qu.:0.0000000   3rd Qu.:0.00000   3rd Qu.:0.000000  \n",
       " Max.   :1.00000   Max.   :1.0000000   Max.   :1.00000   Max.   :1.000000  \n",
       " service...ecr_i    service...IRC       service...X11      service...finger \n",
       " Min.   :0.000000   Min.   :0.0000000   Min.   :0.00e+00   Min.   :0.00000  \n",
       " 1st Qu.:0.000000   1st Qu.:0.0000000   1st Qu.:0.00e+00   1st Qu.:0.00000  \n",
       " Median :0.000000   Median :0.0000000   Median :0.00e+00   Median :0.00000  \n",
       " Mean   :0.004191   Mean   :0.0002587   Mean   :5.17e-05   Mean   :0.00357  \n",
       " 3rd Qu.:0.000000   3rd Qu.:0.0000000   3rd Qu.:0.00e+00   3rd Qu.:0.00000  \n",
       " Max.   :1.000000   Max.   :1.0000000   Max.   :1.00e+00   Max.   :1.00000  \n",
       " service...time      service...telnet   service...ntp_u    service...tim_i    \n",
       " Min.   :0.0000000   Min.   :0.000000   Min.   :0.000000   Min.   :0.0000000  \n",
       " 1st Qu.:0.0000000   1st Qu.:0.000000   1st Qu.:0.000000   1st Qu.:0.0000000  \n",
       " Median :0.0000000   Median :0.000000   Median :0.000000   Median :0.0000000  \n",
       " Mean   :0.0004657   Mean   :0.003001   Mean   :0.001035   Mean   :0.0002587  \n",
       " 3rd Qu.:0.0000000   3rd Qu.:0.000000   3rd Qu.:0.000000   3rd Qu.:0.0000000  \n",
       " Max.   :1.0000000   Max.   :1.000000   Max.   :1.000000   Max.   :1.0000000  \n",
       " service...remote_job service...link     service...urp_i    service...pop_3    \n",
       " Min.   :0.00e+00     Min.   :0.00e+00   Min.   :0.000000   Min.   :0.0000000  \n",
       " 1st Qu.:0.00e+00     1st Qu.:0.00e+00   1st Qu.:0.000000   1st Qu.:0.0000000  \n",
       " Median :0.00e+00     Median :0.00e+00   Median :0.000000   Median :0.0000000  \n",
       " Mean   :5.17e-05     Mean   :5.17e-05   Mean   :0.001087   Mean   :0.0002587  \n",
       " 3rd Qu.:0.00e+00     3rd Qu.:0.00e+00   3rd Qu.:0.000000   3rd Qu.:0.0000000  \n",
       " Max.   :1.00e+00     Max.   :1.00e+00   Max.   :1.000000   Max.   :1.0000000  \n",
       " service...tftp_u   service...imap4    service...nnsp service...uucp\n",
       " Min.   :0.00e+00   Min.   :0.00e+00   Min.   :0      Min.   :0     \n",
       " 1st Qu.:0.00e+00   1st Qu.:0.00e+00   1st Qu.:0      1st Qu.:0     \n",
       " Median :0.00e+00   Median :0.00e+00   Median :0      Median :0     \n",
       " Mean   :5.17e-05   Mean   :5.17e-05   Mean   :0      Mean   :0     \n",
       " 3rd Qu.:0.00e+00   3rd Qu.:0.00e+00   3rd Qu.:0      3rd Qu.:0     \n",
       " Max.   :1.00e+00   Max.   :1.00e+00   Max.   :0      Max.   :0     \n",
       " service...courier  service...login service...icmp      service...domain  \n",
       " Min.   :0.00e+00   Min.   :0       Min.   :0.0000000   Min.   :0.00e+00  \n",
       " 1st Qu.:0.00e+00   1st Qu.:0       1st Qu.:0.0000000   1st Qu.:0.00e+00  \n",
       " Median :0.00e+00   Median :0       Median :0.0000000   Median :0.00e+00  \n",
       " Mean   :5.17e-05   Mean   :0       Mean   :0.0001035   Mean   :5.17e-05  \n",
       " 3rd Qu.:0.00e+00   3rd Qu.:0       3rd Qu.:0.0000000   3rd Qu.:0.00e+00  \n",
       " Max.   :1.00e+00   Max.   :0       Max.   :1.0000000   Max.   :1.00e+00  \n",
       "   flag...SF       flag...RSTR         flag...S1           flag...REJ      \n",
       " Min.   :0.0000   Min.   :0.000000   Min.   :0.0000000   Min.   :0.000000  \n",
       " 1st Qu.:1.0000   1st Qu.:0.000000   1st Qu.:0.0000000   1st Qu.:0.000000  \n",
       " Median :1.0000   Median :0.000000   Median :0.0000000   Median :0.000000  \n",
       " Mean   :0.9935   Mean   :0.001138   Mean   :0.0004657   Mean   :0.001294  \n",
       " 3rd Qu.:1.0000   3rd Qu.:0.000000   3rd Qu.:0.0000000   3rd Qu.:0.000000  \n",
       " Max.   :1.0000   Max.   :1.000000   Max.   :1.0000000   Max.   :1.000000  \n",
       "   flag...S3           flag...S2         flag...RSTOS0  flag...RSTO       \n",
       " Min.   :0.0000000   Min.   :0.0000000   Min.   :0     Min.   :0.0000000  \n",
       " 1st Qu.:0.0000000   1st Qu.:0.0000000   1st Qu.:0     1st Qu.:0.0000000  \n",
       " Median :0.0000000   Median :0.0000000   Median :0     Median :0.0000000  \n",
       " Mean   :0.0001552   Mean   :0.0003105   Mean   :0     Mean   :0.0001035  \n",
       " 3rd Qu.:0.0000000   3rd Qu.:0.0000000   3rd Qu.:0     3rd Qu.:0.0000000  \n",
       " Max.   :1.0000000   Max.   :1.0000000   Max.   :0     Max.   :1.0000000  \n",
       "   flag...SH           land...0    duration          src_bytes        \n",
       " Min.   :0.000000   Min.   :1   Min.   :    0.00   Min.   :      0.0  \n",
       " 1st Qu.:0.000000   1st Qu.:1   1st Qu.:    0.00   1st Qu.:    211.0  \n",
       " Median :0.000000   Median :1   Median :    0.00   Median :    251.0  \n",
       " Mean   :0.003053   Mean   :1   Mean   :   16.52   Mean   :    731.2  \n",
       " 3rd Qu.:0.000000   3rd Qu.:1   3rd Qu.:    0.00   3rd Qu.:    312.0  \n",
       " Max.   :1.000000   Max.   :1   Max.   :54451.00   Max.   :2194619.0  \n",
       "   dst_bytes       wrong_fragment         urgent               hot           \n",
       " Min.   :      0   Min.   :0.000000   Min.   :0.0000000   Min.   :  0.00000  \n",
       " 1st Qu.:    332   1st Qu.:0.000000   1st Qu.:0.0000000   1st Qu.:  0.00000  \n",
       " Median :   1140   Median :0.000000   Median :0.0000000   Median :  0.00000  \n",
       " Mean   :   3937   Mean   :0.006313   Mean   :0.0001552   Mean   :  0.03617  \n",
       " 3rd Qu.:   3434   3rd Qu.:0.000000   3rd Qu.:0.0000000   3rd Qu.:  0.00000  \n",
       " Max.   :1612666   Max.   :3.000000   Max.   :3.0000000   Max.   :101.00000  \n",
       " num_failed_logins     logged_in      num_compromissed     root_shell      \n",
       " Min.   :0.0000000   Min.   :0.0000   Min.   :  0.0000   Min.   :0.000000  \n",
       " 1st Qu.:0.0000000   1st Qu.:1.0000   1st Qu.:  0.0000   1st Qu.:0.000000  \n",
       " Median :0.0000000   Median :1.0000   Median :  0.0000   Median :0.000000  \n",
       " Mean   :0.0005174   Mean   :0.8805   Mean   :  0.0749   Mean   :0.001708  \n",
       " 3rd Qu.:0.0000000   3rd Qu.:1.0000   3rd Qu.:  0.0000   3rd Qu.:0.000000  \n",
       " Max.   :3.0000000   Max.   :1.0000   Max.   :796.0000   Max.   :1.000000  \n",
       "  su_attempted         num_root       num_file_creations    num_shells       \n",
       " Min.   :0.000000   Min.   :  0.000   Min.   :  0.00000   Min.   :0.0000000  \n",
       " 1st Qu.:0.000000   1st Qu.:  0.000   1st Qu.:  0.00000   1st Qu.:0.0000000  \n",
       " Median :0.000000   Median :  0.000   Median :  0.00000   Median :0.0000000  \n",
       " Mean   :0.000207   Mean   :  0.081   Mean   :  0.01019   Mean   :0.0005174  \n",
       " 3rd Qu.:0.000000   3rd Qu.:  0.000   3rd Qu.:  0.00000   3rd Qu.:0.0000000  \n",
       " Max.   :2.000000   Max.   :878.000   Max.   :100.00000   Max.   :2.0000000  \n",
       " num_access_files   num_outbounds_cmds is_host_login       is_guest_login    \n",
       " Min.   :0.000000   Min.   :0          Min.   :0.0000000   Min.   :0.000000  \n",
       " 1st Qu.:0.000000   1st Qu.:0          1st Qu.:0.0000000   1st Qu.:0.000000  \n",
       " Median :0.000000   Median :0          Median :0.0000000   Median :0.000000  \n",
       " Mean   :0.004295   Mean   :0          Mean   :0.0001552   Mean   :0.003001  \n",
       " 3rd Qu.:0.000000   3rd Qu.:0          3rd Qu.:0.0000000   3rd Qu.:0.000000  \n",
       " Max.   :4.000000   Max.   :0          Max.   :1.0000000   Max.   :1.000000  \n",
       "     count          srv_count       serror_rate       srv_serror_rate   \n",
       " Min.   :  1.00   Min.   :  1.00   Min.   :0.000000   Min.   :0.000000  \n",
       " 1st Qu.:  2.00   1st Qu.:  3.00   1st Qu.:0.000000   1st Qu.:0.000000  \n",
       " Median :  6.00   Median :  8.00   Median :0.000000   Median :0.000000  \n",
       " Mean   : 15.25   Mean   : 18.52   Mean   :0.004248   Mean   :0.004236  \n",
       " 3rd Qu.: 13.00   3rd Qu.: 17.00   3rd Qu.:0.000000   3rd Qu.:0.000000  \n",
       " Max.   :511.00   Max.   :511.00   Max.   :1.000000   Max.   :1.000000  \n",
       "  rerror_rate       srv_rerror_rate    same_srv_rate    diff_srv_rate     \n",
       " Min.   :0.000000   Min.   :0.000000   Min.   :0.0000   Min.   :0.000000  \n",
       " 1st Qu.:0.000000   1st Qu.:0.000000   1st Qu.:1.0000   1st Qu.:0.000000  \n",
       " Median :0.000000   Median :0.000000   Median :1.0000   Median :0.000000  \n",
       " Mean   :0.002578   Mean   :0.002817   Mean   :0.9942   Mean   :0.007744  \n",
       " 3rd Qu.:0.000000   3rd Qu.:0.000000   3rd Qu.:1.0000   3rd Qu.:0.000000  \n",
       " Max.   :1.000000   Max.   :1.000000   Max.   :1.0000   Max.   :1.000000  \n",
       " srv_diff_host_rate dst_host_count  dst_host_srv_count dst_host_same_srv_rate\n",
       " Min.   :0.000      Min.   :  0.0   Min.   :  0.0      Min.   :0.0000        \n",
       " 1st Qu.:0.000      1st Qu.: 33.0   1st Qu.:251.0      1st Qu.:1.0000        \n",
       " Median :0.000      Median :131.0   Median :255.0      Median :1.0000        \n",
       " Mean   :0.132      Mean   :139.8   Mean   :225.7      Mean   :0.9323        \n",
       " 3rd Qu.:0.150      3rd Qu.:255.0   3rd Qu.:255.0      3rd Qu.:1.0000        \n",
       " Max.   :1.000      Max.   :255.0   Max.   :255.0      Max.   :1.0000        \n",
       " dst_host_diff_srv_rate dst_host_same_src_port_rate dst_host_srv_diff_host_rate\n",
       " Min.   :0.00000        Min.   :0.00000             Min.   :0.00000            \n",
       " 1st Qu.:0.00000        1st Qu.:0.00000             1st Qu.:0.00000            \n",
       " Median :0.00000        Median :0.01000             Median :0.01000            \n",
       " Mean   :0.01569        Mean   :0.08347             Mean   :0.01994            \n",
       " 3rd Qu.:0.00000        3rd Qu.:0.04000             3rd Qu.:0.03000            \n",
       " Max.   :1.00000        Max.   :1.00000             Max.   :1.00000            \n",
       " dst_host_serror_rate dst_host_srv_serror_rate dst_host_rerror_rate\n",
       " Min.   :0.000000     Min.   :0.000000         Min.   :0.000000    \n",
       " 1st Qu.:0.000000     1st Qu.:0.000000         1st Qu.:0.000000    \n",
       " Median :0.000000     Median :0.000000         Median :0.000000    \n",
       " Mean   :0.004854     Mean   :0.003702         Mean   :0.004717    \n",
       " 3rd Qu.:0.000000     3rd Qu.:0.000000         3rd Qu.:0.000000    \n",
       " Max.   :1.000000     Max.   :1.000000         Max.   :0.990000    \n",
       " dst_host_srv_rerror_rate       id        outlier     dbscan     \n",
       " Min.   :0.000000         Min.   :   10   no :19166   no :    0  \n",
       " 1st Qu.:0.000000         1st Qu.:13866   yes:  160   yes:19326  \n",
       " Median :0.000000         Median :28070                          \n",
       " Mean   :0.002743         Mean   :29256                          \n",
       " 3rd Qu.:0.000000         3rd Qu.:44341                          \n",
       " Max.   :1.000000         Max.   :60444                          \n",
       "      lof            svm       \n",
       " Min.   :  0.8061   no :   55  \n",
       " 1st Qu.:  0.9897   yes:19271  \n",
       " Median :  1.0425              \n",
       " Mean   :  1.1496              \n",
       " 3rd Qu.:  1.1355              \n",
       " Max.   :104.0905              "
      ]
     },
     "metadata": {},
     "output_type": "display_data"
    }
   ],
   "source": [
    "features <- x[[1]][[1]]\n",
    "features$dbscan <- ifelse(features$dbscan == 1, \"yes\", \"no\") %>% factor(levels = c(\"no\", \"yes\"))\n",
    "features$svm <- ifelse(features$svm == 1, \"yes\", \"no\") %>% factor(levels = c(\"no\", \"yes\"))\n",
    "summary(features)"
   ]
  },
  {
   "cell_type": "markdown",
   "metadata": {},
   "source": [
    "DBSCAN said everything is an outlier, as well as the One-class SVM"
   ]
  },
  {
   "cell_type": "code",
   "execution_count": 67,
   "metadata": {
    "collapsed": false
   },
   "outputs": [
    {
     "ename": "ERROR",
     "evalue": "Error in parse(text = x, srcfile = src): <text>:2:0: unexpected end of input\n1: cor(features_cor %>% select(outlier, dbscan, lof, svm)\n   ^\n",
     "output_type": "error",
     "traceback": [
      "Error in parse(text = x, srcfile = src): <text>:2:0: unexpected end of input\n1: cor(features_cor %>% select(outlier, dbscan, lof, svm)\n   ^\nTraceback:\n"
     ]
    }
   ],
   "source": [
    "cor(features_cor %>% select(outlier, dbscan, lof, svm)"
   ]
  },
  {
   "cell_type": "code",
   "execution_count": 73,
   "metadata": {
    "collapsed": false
   },
   "outputs": [
    {
     "name": "stderr",
     "output_type": "stream",
     "text": [
      "Warning message in cor(features_cor %>% select(outlier, dbscan, lof, svm)):\n",
      "\"the standard deviation is zero\""
     ]
    },
    {
     "data": {
      "text/html": [
       "<table>\n",
       "<thead><tr><th></th><th scope=col>outlier</th><th scope=col>dbscan</th><th scope=col>lof</th><th scope=col>svm</th></tr></thead>\n",
       "<tbody>\n",
       "\t<tr><th scope=row>outlier</th><td> 1.000000000</td><td>NA          </td><td>0.039650434 </td><td>-0.005838539</td></tr>\n",
       "\t<tr><th scope=row>dbscan</th><td>          NA</td><td> 1          </td><td>         NA </td><td>          NA</td></tr>\n",
       "\t<tr><th scope=row>lof</th><td> 0.039650434</td><td>NA          </td><td>1.000000000 </td><td> 0.002677976</td></tr>\n",
       "\t<tr><th scope=row>svm</th><td>-0.005838539</td><td>NA          </td><td>0.002677976 </td><td> 1.000000000</td></tr>\n",
       "</tbody>\n",
       "</table>\n"
      ],
      "text/latex": [
       "\\begin{tabular}{r|llll}\n",
       "  & outlier & dbscan & lof & svm\\\\\n",
       "\\hline\n",
       "\toutlier &  1.000000000 & NA           & 0.039650434  & -0.005838539\\\\\n",
       "\tdbscan &           NA &  1           &          NA  &           NA\\\\\n",
       "\tlof &  0.039650434 & NA           & 1.000000000  &  0.002677976\\\\\n",
       "\tsvm & -0.005838539 & NA           & 0.002677976  &  1.000000000\\\\\n",
       "\\end{tabular}\n"
      ],
      "text/markdown": [
       "\n",
       "| <!--/--> | outlier | dbscan | lof | svm | \n",
       "|---|---|---|---|\n",
       "| outlier |  1.000000000 | NA           | 0.039650434  | -0.005838539 | \n",
       "| dbscan |           NA |  1           |          NA  |           NA | \n",
       "| lof |  0.039650434 | NA           | 1.000000000  |  0.002677976 | \n",
       "| svm | -0.005838539 | NA           | 0.002677976  |  1.000000000 | \n",
       "\n",
       "\n"
      ],
      "text/plain": [
       "        outlier      dbscan lof         svm         \n",
       "outlier  1.000000000 NA     0.039650434 -0.005838539\n",
       "dbscan            NA  1              NA           NA\n",
       "lof      0.039650434 NA     1.000000000  0.002677976\n",
       "svm     -0.005838539 NA     0.002677976  1.000000000"
      ]
     },
     "metadata": {},
     "output_type": "display_data"
    }
   ],
   "source": [
    "library(corrplot)\n",
    "features_cor <- features\n",
    "features_cor$outlier <- as.numeric(features_cor$outlier)\n",
    "features_cor$dbscan <- as.numeric(features_cor$dbscan)\n",
    "features_cor$svm <- as.numeric(features_cor$svm)\n",
    "cor(features_cor %>% select(outlier, dbscan, lof, svm))"
   ]
  },
  {
   "cell_type": "code",
   "execution_count": 65,
   "metadata": {
    "collapsed": false
   },
   "outputs": [
    {
     "name": "stderr",
     "output_type": "stream",
     "text": [
      "Warning message:\n",
      "\"glm.fit: algorithm did not converge\"Warning message:\n",
      "\"glm.fit: fitted probabilities numerically 0 or 1 occurred\""
     ]
    }
   ],
   "source": [
    "model_ensemble <- glm(outlier ~., family=binomial(link='logit'), data = x[[1]][[2]])"
   ]
  },
  {
   "cell_type": "markdown",
   "metadata": {},
   "source": [
    "### Next tasks:\n",
    "- Apply one model from each category of Anomaly Detection algorithms\n",
    "- Tuning of the algorithms (insure that we have meaningful features)"
   ]
  }
 ],
 "metadata": {
  "kernelspec": {
   "display_name": "R",
   "language": "R",
   "name": "ir"
  },
  "language_info": {
   "codemirror_mode": "r",
   "file_extension": ".r",
   "mimetype": "text/x-r-source",
   "name": "R",
   "pygments_lexer": "r",
   "version": "3.3.3"
  }
 },
 "nbformat": 4,
 "nbformat_minor": 2
}
