{
 "cells": [
  {
   "cell_type": "markdown",
   "metadata": {},
   "source": [
    "# Experiment 2\n",
    "Miguel Sandim, 05/04/2017"
   ]
  },
  {
   "cell_type": "code",
   "execution_count": 1,
   "metadata": {
    "collapsed": false
   },
   "outputs": [
    {
     "name": "stderr",
     "output_type": "stream",
     "text": [
      "\n",
      "Attaching package: 'dplyr'\n",
      "\n",
      "The following objects are masked from 'package:stats':\n",
      "\n",
      "    filter, lag\n",
      "\n",
      "The following objects are masked from 'package:base':\n",
      "\n",
      "    intersect, setdiff, setequal, union\n",
      "\n",
      "Loading required package: lattice\n"
     ]
    }
   ],
   "source": [
    "setwd(\"~/master-thesis\")\n",
    "set.seed(20)\n",
    "library(ggplot2)\n",
    "library(dplyr)\n",
    "library(caret)\n",
    "library(foreign)"
   ]
  },
  {
   "cell_type": "code",
   "execution_count": 2,
   "metadata": {
    "collapsed": false
   },
   "outputs": [],
   "source": [
    "dataset_aloi <- read.arff(\"datasets/literature/ALOI/ALOI_withoutdupl.arff\")\n",
    "dataset_glass <- read.arff(\"datasets/literature/Glass/Glass_withoutdupl_norm.arff\")\n",
    "dataset_iono <- read.arff(\"datasets/literature/Ionosphere/Ionosphere_withoutdupl_norm.arff\")\n",
    "dataset_kdd <- read.arff(\"datasets/literature/KDDCup99/KDDCup99_withoutdupl_1ofn.arff\")\n",
    "dataset_lym <- read.arff(\"datasets/literature/Lymphography/Lymphography_withoutdupl_1ofn.arff\")\n",
    "dataset_pen <- read.arff(\"datasets/literature/PenDigits/PenDigits_withoutdupl_norm_v01.arff\")\n",
    "dataset_shuttle <- read.arff(\"datasets/literature/Shuttle/Shuttle_withoutdupl_v01.arff\")\n",
    "dataset_waveform <- read.arff(\"datasets/literature/Waveform/Waveform_withoutdupl_v01.arff\")\n",
    "dataset_wbc <- read.arff(\"datasets/literature/WBC/WBC_withoutdupl_v01.arff\")\n",
    "dataset_wdbc <- read.arff(\"datasets/literature/WDBC/WDBC_withoutdupl_v01.arff\")\n",
    "dataset_wpbc <- read.arff(\"datasets/literature/WPBC/WPBC_withoutdupl_norm.arff\")\n",
    "\n",
    "dataset_lym <- dataset_lym %>% rename(outlier = Outlier)"
   ]
  },
  {
   "cell_type": "code",
   "execution_count": 3,
   "metadata": {
    "collapsed": false
   },
   "outputs": [],
   "source": [
    "datasets <- list(\n",
    "  dataset_aloi = dataset_aloi,\n",
    "  dataset_glass = dataset_glass,\n",
    "  dataset_iono = dataset_iono,\n",
    "  dataset_kdd = dataset_kdd,\n",
    "  dataset_lym = dataset_lym,\n",
    "  dataset_pen = dataset_pen,\n",
    "  dataset_shuttle = dataset_shuttle,\n",
    "  dataset_waveform = dataset_waveform,\n",
    "  dataset_wbc = dataset_wbc,\n",
    "  dataset_wdbc = dataset_wdbc,\n",
    "  dataset_wpbc = dataset_wpbc\n",
    ")"
   ]
  },
  {
   "cell_type": "markdown",
   "metadata": {},
   "source": [
    "### Percentage of outliers per dataset"
   ]
  },
  {
   "cell_type": "code",
   "execution_count": 4,
   "metadata": {
    "collapsed": false
   },
   "outputs": [
    {
     "data": {
      "text/plain": [
       "$dataset_aloi\n",
       "\n",
       "       no       yes \n",
       "96.955626  3.044374 \n",
       "\n",
       "$dataset_glass\n",
       "\n",
       "       no       yes \n",
       "95.794393  4.205607 \n",
       "\n",
       "$dataset_iono\n",
       "\n",
       "      no      yes \n",
       "64.10256 35.89744 \n",
       "\n",
       "$dataset_kdd\n",
       "\n",
       "        no        yes \n",
       "99.5843119  0.4156881 \n",
       "\n",
       "$dataset_lym\n",
       "\n",
       "       no       yes \n",
       "95.945946  4.054054 \n",
       "\n",
       "$dataset_pen\n",
       "\n",
       "        no        yes \n",
       "99.7973247  0.2026753 \n",
       "\n",
       "$dataset_shuttle\n",
       "\n",
       "       no       yes \n",
       "98.716683  1.283317 \n",
       "\n",
       "$dataset_waveform\n",
       "\n",
       "       no       yes \n",
       "97.095556  2.904444 \n",
       "\n",
       "$dataset_wbc\n",
       "\n",
       "       no       yes \n",
       "95.515695  4.484305 \n",
       "\n",
       "$dataset_wdbc\n",
       "\n",
       "       no       yes \n",
       "97.275204  2.724796 \n",
       "\n",
       "$dataset_wpbc\n",
       "\n",
       "      no      yes \n",
       "76.26263 23.73737 \n"
      ]
     },
     "metadata": {},
     "output_type": "display_data"
    }
   ],
   "source": [
    "lapply(datasets, function(data) prop.table(table(data[, \"outlier\"])) * 100)"
   ]
  },
  {
   "cell_type": "markdown",
   "metadata": {},
   "source": [
    "### Number of outliers per dataset"
   ]
  },
  {
   "cell_type": "code",
   "execution_count": 5,
   "metadata": {
    "collapsed": false
   },
   "outputs": [
    {
     "data": {
      "text/plain": [
       "$dataset_aloi\n",
       "\n",
       "   no   yes \n",
       "48026  1508 \n",
       "\n",
       "$dataset_glass\n",
       "\n",
       " no yes \n",
       "205   9 \n",
       "\n",
       "$dataset_iono\n",
       "\n",
       " no yes \n",
       "225 126 \n",
       "\n",
       "$dataset_kdd\n",
       "\n",
       "   no   yes \n",
       "47913   200 \n",
       "\n",
       "$dataset_lym\n",
       "\n",
       " no yes \n",
       "142   6 \n",
       "\n",
       "$dataset_pen\n",
       "\n",
       "  no  yes \n",
       "9848   20 \n",
       "\n",
       "$dataset_shuttle\n",
       "\n",
       "  no  yes \n",
       "1000   13 \n",
       "\n",
       "$dataset_waveform\n",
       "\n",
       "  no  yes \n",
       "3343  100 \n",
       "\n",
       "$dataset_wbc\n",
       "\n",
       " no yes \n",
       "213  10 \n",
       "\n",
       "$dataset_wdbc\n",
       "\n",
       " no yes \n",
       "357  10 \n",
       "\n",
       "$dataset_wpbc\n",
       "\n",
       " no yes \n",
       "151  47 \n"
      ]
     },
     "metadata": {},
     "output_type": "display_data"
    }
   ],
   "source": [
    "lapply(datasets, function(data) table(data[, \"outlier\"]))"
   ]
  },
  {
   "cell_type": "code",
   "execution_count": 6,
   "metadata": {
    "collapsed": false
   },
   "outputs": [],
   "source": [
    "#print(object.size(datasets) , units = \"auto\")"
   ]
  },
  {
   "cell_type": "code",
   "execution_count": 7,
   "metadata": {
    "collapsed": true
   },
   "outputs": [],
   "source": [
    "#dataset_ann <- read.arff(\"datasets/semantic/Annthyroid/Annthyroid_withoutdupl_07.arff\")\n",
    "#dataset_arr <- read.arff(\"dataset/semantic/Arrhythmia/Arrhythmia_withoutdupl_10_v01.arff\")\n",
    "#dataset_cardio <- read.arff(\"dataset/semantic/Cardiotocography/Cardiotocography_withoutdupl_20_v01.arff\")\n",
    "#dataset_heart <- read.arff(\"dataset/semantic/HeartDisease/HeartDisease_withoutdupl_20_v01.arff\")\n",
    "#dataset_hepatitis <- read.arff(\"dataset/semantic/Hepatitis/Hepatitis_withoutdupl_16.arff\")\n",
    "#dataset_ads <- read.arff(\"dataset/semantic/InternetAds/InternetAds_withoutdupl_norm_19.arff\")\n",
    "#dataset_blocks <- read.arff(\"dataset/semantic/PageBlocks/PageBlocks_withoutdupl_09.arff\")\n",
    "#dataset_parkinson <- read.arff(\"dataset/semantic/Parkinson/Parkinson_withoutdupl_20_v01.arff\")\n",
    "#dataset_pima <- read.arff(\"dataset/semantic/Pima/Pima_withoutdupl_20_v01.arff\")\n",
    "#dataset_spam <- read.arff(\"dataset/semantic/SpamBase/SpamBase_withoutdupl_20_v01.arff\")\n",
    "#dataset_stamps <- read.arff(\"dataset/semantic/Stamps/Stamps_withoutdupl_09.arff\")\n",
    "#dataset_wilt <- read.arff(\"dataset/semantic/Wilt/Wilt_withoutdupl_05.arff\")"
   ]
  },
  {
   "cell_type": "code",
   "execution_count": 8,
   "metadata": {
    "collapsed": true
   },
   "outputs": [],
   "source": [
    "createStratCV <- function(data, k_value = 10)\n",
    "{\n",
    "  folds <- createFolds(data$outlier, k = k_value, list = TRUE, returnTrain = FALSE)\n",
    "  folds_index <- lapply(folds, function(f) data[f, \"id\"])\n",
    "}"
   ]
  },
  {
   "cell_type": "code",
   "execution_count": 9,
   "metadata": {
    "collapsed": false
   },
   "outputs": [],
   "source": [
    "datasets_folds <- lapply(datasets, createStratCV, k_value = 5)"
   ]
  },
  {
   "cell_type": "markdown",
   "metadata": {},
   "source": [
    "### Number of outliers per fold"
   ]
  },
  {
   "cell_type": "code",
   "execution_count": 10,
   "metadata": {
    "collapsed": false
   },
   "outputs": [
    {
     "data": {
      "text/plain": [
       "$dataset_aloi\n",
       ".\n",
       "  no  yes \n",
       "9605  301 \n",
       "\n",
       "$dataset_glass\n",
       ".\n",
       " no yes \n",
       " 41   2 \n",
       "\n",
       "$dataset_iono\n",
       ".\n",
       " no yes \n",
       " 45  25 \n",
       "\n",
       "$dataset_kdd\n",
       ".\n",
       "  no  yes \n",
       "9583   40 \n",
       "\n",
       "$dataset_lym\n",
       ".\n",
       " no yes \n",
       " 28   1 \n",
       "\n",
       "$dataset_pen\n",
       ".\n",
       "  no  yes \n",
       "1970    4 \n",
       "\n",
       "$dataset_shuttle\n",
       ".\n",
       " no yes \n",
       "200   2 \n",
       "\n",
       "$dataset_waveform\n",
       ".\n",
       " no yes \n",
       "669  20 \n",
       "\n",
       "$dataset_wbc\n",
       ".\n",
       " no yes \n",
       " 43   2 \n",
       "\n",
       "$dataset_wdbc\n",
       ".\n",
       " no yes \n",
       " 72   2 \n",
       "\n",
       "$dataset_wpbc\n",
       ".\n",
       " no yes \n",
       " 30   9 \n"
      ]
     },
     "metadata": {},
     "output_type": "display_data"
    }
   ],
   "source": [
    "lapply(names(datasets), function(dname) \n",
    "  {\n",
    "    datasets[[dname]] %>% filter(id %in% datasets_folds[[dname]][[1]]) %>% select(outlier) %>% table\n",
    "  }) %>% setNames(names(datasets))"
   ]
  },
  {
   "cell_type": "code",
   "execution_count": null,
   "metadata": {
    "collapsed": true
   },
   "outputs": [],
   "source": []
  }
 ],
 "metadata": {
  "kernelspec": {
   "display_name": "R",
   "language": "R",
   "name": "ir"
  },
  "language_info": {
   "codemirror_mode": "r",
   "file_extension": ".r",
   "mimetype": "text/x-r-source",
   "name": "R",
   "pygments_lexer": "r",
   "version": "3.3.3"
  }
 },
 "nbformat": 4,
 "nbformat_minor": 2
}
