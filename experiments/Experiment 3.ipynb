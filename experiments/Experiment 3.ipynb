{
 "cells": [
  {
   "cell_type": "code",
   "execution_count": 1,
   "metadata": {
    "collapsed": false
   },
   "outputs": [
    {
     "name": "stderr",
     "output_type": "stream",
     "text": [
      "\n",
      "Attaching package: 'dplyr'\n",
      "\n",
      "The following objects are masked from 'package:stats':\n",
      "\n",
      "    filter, lag\n",
      "\n",
      "The following objects are masked from 'package:base':\n",
      "\n",
      "    intersect, setdiff, setequal, union\n",
      "\n",
      "Loading required package: lattice\n"
     ]
    }
   ],
   "source": [
    "setwd(\"~/master-thesis\")\n",
    "set.seed(20)\n",
    "library(ggplot2)\n",
    "library(dplyr)\n",
    "library(caret)\n",
    "library(foreign)"
   ]
  },
  {
   "cell_type": "code",
   "execution_count": 2,
   "metadata": {
    "collapsed": true
   },
   "outputs": [],
   "source": [
    "dataset_aloi <- read.arff(\"datasets/literature/ALOI/ALOI_withoutdupl.arff\")\n",
    "dataset_glass <- read.arff(\"datasets/literature/Glass/Glass_withoutdupl_norm.arff\")\n",
    "dataset_iono <- read.arff(\"datasets/literature/Ionosphere/Ionosphere_withoutdupl_norm.arff\")\n",
    "dataset_kdd <- read.arff(\"datasets/literature/KDDCup99/KDDCup99_withoutdupl_1ofn.arff\")\n",
    "dataset_lym <- read.arff(\"datasets/literature/Lymphography/Lymphography_withoutdupl_1ofn.arff\")\n",
    "dataset_pen <- read.arff(\"datasets/literature/PenDigits/PenDigits_withoutdupl_norm_v01.arff\")\n",
    "dataset_shuttle <- read.arff(\"datasets/literature/Shuttle/Shuttle_withoutdupl_v01.arff\")\n",
    "dataset_waveform <- read.arff(\"datasets/literature/Waveform/Waveform_withoutdupl_v01.arff\")\n",
    "dataset_wbc <- read.arff(\"datasets/literature/WBC/WBC_withoutdupl_v01.arff\")\n",
    "dataset_wdbc <- read.arff(\"datasets/literature/WDBC/WDBC_withoutdupl_v01.arff\")\n",
    "dataset_wpbc <- read.arff(\"datasets/literature/WPBC/WPBC_withoutdupl_norm.arff\")\n"
   ]
  },
  {
   "cell_type": "code",
   "execution_count": null,
   "metadata": {
    "collapsed": true
   },
   "outputs": [],
   "source": []
  }
 ],
 "metadata": {
  "kernelspec": {
   "display_name": "R",
   "language": "R",
   "name": "ir"
  },
  "language_info": {
   "codemirror_mode": "r",
   "file_extension": ".r",
   "mimetype": "text/x-r-source",
   "name": "R",
   "pygments_lexer": "r",
   "version": "3.4.0"
  }
 },
 "nbformat": 4,
 "nbformat_minor": 2
}
