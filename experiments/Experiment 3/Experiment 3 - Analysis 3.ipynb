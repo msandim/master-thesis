{
 "cells": [
  {
   "cell_type": "code",
   "execution_count": 1,
   "metadata": {},
   "outputs": [
    {
     "name": "stderr",
     "output_type": "stream",
     "text": [
      "\n",
      "Attaching package: 'dplyr'\n",
      "\n",
      "The following objects are masked from 'package:stats':\n",
      "\n",
      "    filter, lag\n",
      "\n",
      "The following objects are masked from 'package:base':\n",
      "\n",
      "    intersect, setdiff, setequal, union\n",
      "\n",
      "Loading required package: lattice\n",
      "Loading required package: ggplot2\n"
     ]
    }
   ],
   "source": [
    "set.seed(20)\n",
    "\n",
    "library(dplyr)\n",
    "library(caret)\n",
    "library(tidyr)"
   ]
  },
  {
   "cell_type": "code",
   "execution_count": 2,
   "metadata": {
    "collapsed": true
   },
   "outputs": [],
   "source": [
    "evaluation_algorithms <- read.csv(\"results_evaluation/algorithms_metrics_2017-06-15.csv\") %>% rename(algorithm_f1 = f1,\n",
    "                                                                                                    algorithm_precision = precision,\n",
    "                                                                                                    algorithm_recall = recall)"
   ]
  },
  {
   "cell_type": "code",
   "execution_count": 3,
   "metadata": {
    "collapsed": true
   },
   "outputs": [],
   "source": [
    "evaluation_ensemble <- read.csv(\"results_evaluation/ensemble_metrics_2017-06-15_all.csv\") %>% rename(\n",
    "                                                                                                ensemble_all = ensemble,\n",
    "                                                                                                  ensemble_f1 = f1,\n",
    "                                                                                                 ensemble_precision = precision,\n",
    "                                                                                                 ensemble_recall = recall)"
   ]
  },
  {
   "cell_type": "code",
   "execution_count": 4,
   "metadata": {
    "collapsed": true
   },
   "outputs": [],
   "source": [
    "evaluation_sup <- read.csv(\"results_evaluation/ensemble_metrics_2017-06-15_sup.csv\") %>% rename(\n",
    "                                                                                                ensemble_sup = ensemble,\n",
    "                                                                                                sup_f1 = f1,\n",
    "                                                                                                 sup_precision = precision,\n",
    "                                                                                                 sup_recall = recall)"
   ]
  },
  {
   "cell_type": "code",
   "execution_count": 5,
   "metadata": {
    "collapsed": true
   },
   "outputs": [],
   "source": [
    "evaluation_un <- read.csv(\"results_evaluation/ensemble_metrics_2017-06-15_un.csv\") %>% rename(un_f1 = f1,\n",
    "                                                                                                ensemble_un = ensemble,\n",
    "                                                                                                 un_precision = precision,\n",
    "                                                                                                 un_recall = recall)"
   ]
  },
  {
   "cell_type": "code",
   "execution_count": 6,
   "metadata": {
    "collapsed": true
   },
   "outputs": [],
   "source": [
    "supervised_algorithms <- c(\"CART\",\n",
    "                           \"naiveBayes\",\n",
    "                           \"neuralNetwork\",\n",
    "                           \"randomForest\",\n",
    "                           \"SVM_linear\",\n",
    "                           \"SVM_polynomial\",\n",
    "                           \"SVM_radial\", \n",
    "                           \"SVM_sigmoid\")\n",
    "unsupervised_algorithms <- c(\"DBSCAN\",\n",
    "                             \"kmeans\",\n",
    "                             \"LOF\",\n",
    "                             \"oneClassSVM_linear\",\n",
    "                             \"oneClassSVM_polynomial\",\n",
    "                             \"oneClassSVM_radial\",\n",
    "                             \"oneClassSVM_sigmoid\")"
   ]
  },
  {
   "cell_type": "code",
   "execution_count": 7,
   "metadata": {},
   "outputs": [
    {
     "data": {
      "text/html": [
       "<table>\n",
       "<thead><tr><th scope=col>dataset</th><th scope=col>algorithm</th><th scope=col>variant</th><th scope=col>algorithm_f1</th><th scope=col>algorithm_precision</th><th scope=col>algorithm_recall</th></tr></thead>\n",
       "<tbody>\n",
       "\t<tr><td>dataset_aloi     </td><td>randomForest     </td><td>rf               </td><td>0.5895966        </td><td>0.6000766        </td><td>0.5795629        </td></tr>\n",
       "\t<tr><td>dataset_iono     </td><td>SVM_radial       </td><td>SVM_radial       </td><td>0.9331795        </td><td>0.9294872        </td><td>0.9371795        </td></tr>\n",
       "\t<tr><td>dataset_kdd      </td><td>randomForest     </td><td>rf               </td><td>0.8521795        </td><td>0.8544737        </td><td>0.8500000        </td></tr>\n",
       "\t<tr><td>dataset_pen      </td><td>neuralNetwork    </td><td>mlp              </td><td>1.0000000        </td><td>1.0000000        </td><td>1.0000000        </td></tr>\n",
       "\t<tr><td>dataset_shuttle  </td><td>CART             </td><td>cart             </td><td>0.9000000        </td><td>0.9000000        </td><td>0.9000000        </td></tr>\n",
       "\t<tr><td>dataset_waveform </td><td>SVM_radial       </td><td>SVM_radial       </td><td>0.6000000        </td><td>0.6000000        </td><td>0.6000000        </td></tr>\n",
       "\t<tr><td>dataset_wbc      </td><td>randomForest     </td><td>rf               </td><td>0.9000000        </td><td>0.9000000        </td><td>0.9000000        </td></tr>\n",
       "\t<tr><td>dataset_wdbc     </td><td>naiveBayes       </td><td>nb               </td><td>0.9000000        </td><td>0.9000000        </td><td>0.9000000        </td></tr>\n",
       "\t<tr><td>dataset_wdbc     </td><td>neuralNetwork    </td><td>mlp              </td><td>0.9000000        </td><td>0.9000000        </td><td>0.9000000        </td></tr>\n",
       "\t<tr><td>dataset_wdbc     </td><td>SVM_linear       </td><td>SVM_linear       </td><td>0.9000000        </td><td>0.9000000        </td><td>0.9000000        </td></tr>\n",
       "\t<tr><td>dataset_wdbc     </td><td>SVM_polynomial   </td><td>SVM_polynomial   </td><td>0.9000000        </td><td>0.9000000        </td><td>0.9000000        </td></tr>\n",
       "\t<tr><td>dataset_wpbc     </td><td>SVM_linear       </td><td>SVM_linear       </td><td>0.5355556        </td><td>0.5200000        </td><td>0.5550000        </td></tr>\n",
       "\t<tr><td>dataset_ann      </td><td>randomForest     </td><td>rf               </td><td>0.9739010        </td><td>0.9685185        </td><td>0.9793850        </td></tr>\n",
       "\t<tr><td>dataset_arr      </td><td>randomForest     </td><td>rf               </td><td>0.5866667        </td><td>0.5666667        </td><td>0.6166667        </td></tr>\n",
       "\t<tr><td>dataset_cardio   </td><td>randomForest     </td><td>rf               </td><td>0.8990576        </td><td>0.9001742        </td><td>0.8979675        </td></tr>\n",
       "\t<tr><td>dataset_heart    </td><td>naiveBayes       </td><td>nb               </td><td>0.6500000        </td><td>0.6250000        </td><td>0.6833333        </td></tr>\n",
       "\t<tr><td>dataset_hepatitis</td><td>randomForest     </td><td>rf               </td><td>0.6833333        </td><td>0.6000000        </td><td>0.8500000        </td></tr>\n",
       "\t<tr><td>dataset_ads      </td><td>randomForest     </td><td>rf               </td><td>0.8803406        </td><td>0.8802553        </td><td>0.8805556        </td></tr>\n",
       "\t<tr><td>dataset_blocks   </td><td>randomForest     </td><td>rf               </td><td>0.8852068        </td><td>0.8861176        </td><td>0.8843137        </td></tr>\n",
       "\t<tr><td>dataset_parkinson</td><td>SVM_linear       </td><td>SVM_linear       </td><td>0.9166667        </td><td>0.9500000        </td><td>0.9000000        </td></tr>\n",
       "\t<tr><td>dataset_parkinson</td><td>SVM_polynomial   </td><td>SVM_polynomial   </td><td>0.9166667        </td><td>0.9500000        </td><td>0.9000000        </td></tr>\n",
       "\t<tr><td>dataset_pima     </td><td>randomForest     </td><td>rf               </td><td>0.5409231        </td><td>0.5307692        </td><td>0.5519231        </td></tr>\n",
       "\t<tr><td>dataset_spam     </td><td>randomForest     </td><td>rf               </td><td>0.8725144        </td><td>0.8732143        </td><td>0.8718254        </td></tr>\n",
       "\t<tr><td>dataset_stamps   </td><td>neuralNetwork    </td><td>mlp              </td><td>0.8857143        </td><td>0.8000000        </td><td>1.0000000        </td></tr>\n",
       "\t<tr><td>dataset_wilt     </td><td>neuralNetwork    </td><td>mlp              </td><td>0.9011312        </td><td>0.8961538        </td><td>0.9063077        </td></tr>\n",
       "</tbody>\n",
       "</table>\n"
      ],
      "text/latex": [
       "\\begin{tabular}{r|llllll}\n",
       " dataset & algorithm & variant & algorithm\\_f1 & algorithm\\_precision & algorithm\\_recall\\\\\n",
       "\\hline\n",
       "\t dataset\\_aloi      & randomForest        & rf                  & 0.5895966           & 0.6000766           & 0.5795629          \\\\\n",
       "\t dataset\\_iono      & SVM\\_radial        & SVM\\_radial        & 0.9331795           & 0.9294872           & 0.9371795          \\\\\n",
       "\t dataset\\_kdd       & randomForest        & rf                  & 0.8521795           & 0.8544737           & 0.8500000          \\\\\n",
       "\t dataset\\_pen       & neuralNetwork       & mlp                 & 1.0000000           & 1.0000000           & 1.0000000          \\\\\n",
       "\t dataset\\_shuttle   & CART                & cart                & 0.9000000           & 0.9000000           & 0.9000000          \\\\\n",
       "\t dataset\\_waveform  & SVM\\_radial        & SVM\\_radial        & 0.6000000           & 0.6000000           & 0.6000000          \\\\\n",
       "\t dataset\\_wbc       & randomForest        & rf                  & 0.9000000           & 0.9000000           & 0.9000000          \\\\\n",
       "\t dataset\\_wdbc      & naiveBayes          & nb                  & 0.9000000           & 0.9000000           & 0.9000000          \\\\\n",
       "\t dataset\\_wdbc      & neuralNetwork       & mlp                 & 0.9000000           & 0.9000000           & 0.9000000          \\\\\n",
       "\t dataset\\_wdbc      & SVM\\_linear        & SVM\\_linear        & 0.9000000           & 0.9000000           & 0.9000000          \\\\\n",
       "\t dataset\\_wdbc      & SVM\\_polynomial    & SVM\\_polynomial    & 0.9000000           & 0.9000000           & 0.9000000          \\\\\n",
       "\t dataset\\_wpbc      & SVM\\_linear        & SVM\\_linear        & 0.5355556           & 0.5200000           & 0.5550000          \\\\\n",
       "\t dataset\\_ann       & randomForest        & rf                  & 0.9739010           & 0.9685185           & 0.9793850          \\\\\n",
       "\t dataset\\_arr       & randomForest        & rf                  & 0.5866667           & 0.5666667           & 0.6166667          \\\\\n",
       "\t dataset\\_cardio    & randomForest        & rf                  & 0.8990576           & 0.9001742           & 0.8979675          \\\\\n",
       "\t dataset\\_heart     & naiveBayes          & nb                  & 0.6500000           & 0.6250000           & 0.6833333          \\\\\n",
       "\t dataset\\_hepatitis & randomForest        & rf                  & 0.6833333           & 0.6000000           & 0.8500000          \\\\\n",
       "\t dataset\\_ads       & randomForest        & rf                  & 0.8803406           & 0.8802553           & 0.8805556          \\\\\n",
       "\t dataset\\_blocks    & randomForest        & rf                  & 0.8852068           & 0.8861176           & 0.8843137          \\\\\n",
       "\t dataset\\_parkinson & SVM\\_linear        & SVM\\_linear        & 0.9166667           & 0.9500000           & 0.9000000          \\\\\n",
       "\t dataset\\_parkinson & SVM\\_polynomial    & SVM\\_polynomial    & 0.9166667           & 0.9500000           & 0.9000000          \\\\\n",
       "\t dataset\\_pima      & randomForest        & rf                  & 0.5409231           & 0.5307692           & 0.5519231          \\\\\n",
       "\t dataset\\_spam      & randomForest        & rf                  & 0.8725144           & 0.8732143           & 0.8718254          \\\\\n",
       "\t dataset\\_stamps    & neuralNetwork       & mlp                 & 0.8857143           & 0.8000000           & 1.0000000          \\\\\n",
       "\t dataset\\_wilt      & neuralNetwork       & mlp                 & 0.9011312           & 0.8961538           & 0.9063077          \\\\\n",
       "\\end{tabular}\n"
      ],
      "text/markdown": [
       "\n",
       "dataset | algorithm | variant | algorithm_f1 | algorithm_precision | algorithm_recall | \n",
       "|---|---|---|---|---|---|---|---|---|---|---|---|---|---|---|---|---|---|---|---|---|---|---|---|---|\n",
       "| dataset_aloi      | randomForest      | rf                | 0.5895966         | 0.6000766         | 0.5795629         | \n",
       "| dataset_iono      | SVM_radial        | SVM_radial        | 0.9331795         | 0.9294872         | 0.9371795         | \n",
       "| dataset_kdd       | randomForest      | rf                | 0.8521795         | 0.8544737         | 0.8500000         | \n",
       "| dataset_pen       | neuralNetwork     | mlp               | 1.0000000         | 1.0000000         | 1.0000000         | \n",
       "| dataset_shuttle   | CART              | cart              | 0.9000000         | 0.9000000         | 0.9000000         | \n",
       "| dataset_waveform  | SVM_radial        | SVM_radial        | 0.6000000         | 0.6000000         | 0.6000000         | \n",
       "| dataset_wbc       | randomForest      | rf                | 0.9000000         | 0.9000000         | 0.9000000         | \n",
       "| dataset_wdbc      | naiveBayes        | nb                | 0.9000000         | 0.9000000         | 0.9000000         | \n",
       "| dataset_wdbc      | neuralNetwork     | mlp               | 0.9000000         | 0.9000000         | 0.9000000         | \n",
       "| dataset_wdbc      | SVM_linear        | SVM_linear        | 0.9000000         | 0.9000000         | 0.9000000         | \n",
       "| dataset_wdbc      | SVM_polynomial    | SVM_polynomial    | 0.9000000         | 0.9000000         | 0.9000000         | \n",
       "| dataset_wpbc      | SVM_linear        | SVM_linear        | 0.5355556         | 0.5200000         | 0.5550000         | \n",
       "| dataset_ann       | randomForest      | rf                | 0.9739010         | 0.9685185         | 0.9793850         | \n",
       "| dataset_arr       | randomForest      | rf                | 0.5866667         | 0.5666667         | 0.6166667         | \n",
       "| dataset_cardio    | randomForest      | rf                | 0.8990576         | 0.9001742         | 0.8979675         | \n",
       "| dataset_heart     | naiveBayes        | nb                | 0.6500000         | 0.6250000         | 0.6833333         | \n",
       "| dataset_hepatitis | randomForest      | rf                | 0.6833333         | 0.6000000         | 0.8500000         | \n",
       "| dataset_ads       | randomForest      | rf                | 0.8803406         | 0.8802553         | 0.8805556         | \n",
       "| dataset_blocks    | randomForest      | rf                | 0.8852068         | 0.8861176         | 0.8843137         | \n",
       "| dataset_parkinson | SVM_linear        | SVM_linear        | 0.9166667         | 0.9500000         | 0.9000000         | \n",
       "| dataset_parkinson | SVM_polynomial    | SVM_polynomial    | 0.9166667         | 0.9500000         | 0.9000000         | \n",
       "| dataset_pima      | randomForest      | rf                | 0.5409231         | 0.5307692         | 0.5519231         | \n",
       "| dataset_spam      | randomForest      | rf                | 0.8725144         | 0.8732143         | 0.8718254         | \n",
       "| dataset_stamps    | neuralNetwork     | mlp               | 0.8857143         | 0.8000000         | 1.0000000         | \n",
       "| dataset_wilt      | neuralNetwork     | mlp               | 0.9011312         | 0.8961538         | 0.9063077         | \n",
       "\n",
       "\n"
      ],
      "text/plain": [
       "   dataset           algorithm      variant        algorithm_f1\n",
       "1  dataset_aloi      randomForest   rf             0.5895966   \n",
       "2  dataset_iono      SVM_radial     SVM_radial     0.9331795   \n",
       "3  dataset_kdd       randomForest   rf             0.8521795   \n",
       "4  dataset_pen       neuralNetwork  mlp            1.0000000   \n",
       "5  dataset_shuttle   CART           cart           0.9000000   \n",
       "6  dataset_waveform  SVM_radial     SVM_radial     0.6000000   \n",
       "7  dataset_wbc       randomForest   rf             0.9000000   \n",
       "8  dataset_wdbc      naiveBayes     nb             0.9000000   \n",
       "9  dataset_wdbc      neuralNetwork  mlp            0.9000000   \n",
       "10 dataset_wdbc      SVM_linear     SVM_linear     0.9000000   \n",
       "11 dataset_wdbc      SVM_polynomial SVM_polynomial 0.9000000   \n",
       "12 dataset_wpbc      SVM_linear     SVM_linear     0.5355556   \n",
       "13 dataset_ann       randomForest   rf             0.9739010   \n",
       "14 dataset_arr       randomForest   rf             0.5866667   \n",
       "15 dataset_cardio    randomForest   rf             0.8990576   \n",
       "16 dataset_heart     naiveBayes     nb             0.6500000   \n",
       "17 dataset_hepatitis randomForest   rf             0.6833333   \n",
       "18 dataset_ads       randomForest   rf             0.8803406   \n",
       "19 dataset_blocks    randomForest   rf             0.8852068   \n",
       "20 dataset_parkinson SVM_linear     SVM_linear     0.9166667   \n",
       "21 dataset_parkinson SVM_polynomial SVM_polynomial 0.9166667   \n",
       "22 dataset_pima      randomForest   rf             0.5409231   \n",
       "23 dataset_spam      randomForest   rf             0.8725144   \n",
       "24 dataset_stamps    neuralNetwork  mlp            0.8857143   \n",
       "25 dataset_wilt      neuralNetwork  mlp            0.9011312   \n",
       "   algorithm_precision algorithm_recall\n",
       "1  0.6000766           0.5795629       \n",
       "2  0.9294872           0.9371795       \n",
       "3  0.8544737           0.8500000       \n",
       "4  1.0000000           1.0000000       \n",
       "5  0.9000000           0.9000000       \n",
       "6  0.6000000           0.6000000       \n",
       "7  0.9000000           0.9000000       \n",
       "8  0.9000000           0.9000000       \n",
       "9  0.9000000           0.9000000       \n",
       "10 0.9000000           0.9000000       \n",
       "11 0.9000000           0.9000000       \n",
       "12 0.5200000           0.5550000       \n",
       "13 0.9685185           0.9793850       \n",
       "14 0.5666667           0.6166667       \n",
       "15 0.9001742           0.8979675       \n",
       "16 0.6250000           0.6833333       \n",
       "17 0.6000000           0.8500000       \n",
       "18 0.8802553           0.8805556       \n",
       "19 0.8861176           0.8843137       \n",
       "20 0.9500000           0.9000000       \n",
       "21 0.9500000           0.9000000       \n",
       "22 0.5307692           0.5519231       \n",
       "23 0.8732143           0.8718254       \n",
       "24 0.8000000           1.0000000       \n",
       "25 0.8961538           0.9063077       "
      ]
     },
     "metadata": {},
     "output_type": "display_data"
    }
   ],
   "source": [
    "evaluation_algorithms %>% group_by(dataset) %>% top_n(1, algorithm_f1)"
   ]
  },
  {
   "cell_type": "code",
   "execution_count": 8,
   "metadata": {
    "collapsed": true
   },
   "outputs": [],
   "source": [
    "best_algs <- .Last.value"
   ]
  },
  {
   "cell_type": "code",
   "execution_count": 9,
   "metadata": {},
   "outputs": [
    {
     "data": {
      "text/html": [
       "<table>\n",
       "<thead><tr><th scope=col>dataset</th><th scope=col>algorithm</th><th scope=col>variant</th><th scope=col>algorithm_f1</th><th scope=col>algorithm_precision</th><th scope=col>algorithm_recall</th></tr></thead>\n",
       "<tbody>\n",
       "\t<tr><td>dataset_aloi     </td><td>randomForest     </td><td>rf               </td><td>0.5895966        </td><td>0.6000766        </td><td>0.5795629        </td></tr>\n",
       "\t<tr><td>dataset_iono     </td><td>SVM_radial       </td><td>SVM_radial       </td><td>0.9331795        </td><td>0.9294872        </td><td>0.9371795        </td></tr>\n",
       "\t<tr><td>dataset_kdd      </td><td>randomForest     </td><td>rf               </td><td>0.8521795        </td><td>0.8544737        </td><td>0.8500000        </td></tr>\n",
       "\t<tr><td>dataset_pen      </td><td>neuralNetwork    </td><td>mlp              </td><td>1.0000000        </td><td>1.0000000        </td><td>1.0000000        </td></tr>\n",
       "\t<tr><td>dataset_shuttle  </td><td>CART             </td><td>cart             </td><td>0.9000000        </td><td>0.9000000        </td><td>0.9000000        </td></tr>\n",
       "\t<tr><td>dataset_waveform </td><td>SVM_radial       </td><td>SVM_radial       </td><td>0.6000000        </td><td>0.6000000        </td><td>0.6000000        </td></tr>\n",
       "\t<tr><td>dataset_wbc      </td><td>randomForest     </td><td>rf               </td><td>0.9000000        </td><td>0.9000000        </td><td>0.9000000        </td></tr>\n",
       "\t<tr><td>dataset_wdbc     </td><td>naiveBayes       </td><td>nb               </td><td>0.9000000        </td><td>0.9000000        </td><td>0.9000000        </td></tr>\n",
       "\t<tr><td>dataset_wdbc     </td><td>neuralNetwork    </td><td>mlp              </td><td>0.9000000        </td><td>0.9000000        </td><td>0.9000000        </td></tr>\n",
       "\t<tr><td>dataset_wdbc     </td><td>SVM_linear       </td><td>SVM_linear       </td><td>0.9000000        </td><td>0.9000000        </td><td>0.9000000        </td></tr>\n",
       "\t<tr><td>dataset_wdbc     </td><td>SVM_polynomial   </td><td>SVM_polynomial   </td><td>0.9000000        </td><td>0.9000000        </td><td>0.9000000        </td></tr>\n",
       "\t<tr><td>dataset_wpbc     </td><td>SVM_linear       </td><td>SVM_linear       </td><td>0.5355556        </td><td>0.5200000        </td><td>0.5550000        </td></tr>\n",
       "\t<tr><td>dataset_ann      </td><td>randomForest     </td><td>rf               </td><td>0.9739010        </td><td>0.9685185        </td><td>0.9793850        </td></tr>\n",
       "\t<tr><td>dataset_arr      </td><td>randomForest     </td><td>rf               </td><td>0.5866667        </td><td>0.5666667        </td><td>0.6166667        </td></tr>\n",
       "\t<tr><td>dataset_cardio   </td><td>randomForest     </td><td>rf               </td><td>0.8990576        </td><td>0.9001742        </td><td>0.8979675        </td></tr>\n",
       "\t<tr><td>dataset_heart    </td><td>naiveBayes       </td><td>nb               </td><td>0.6500000        </td><td>0.6250000        </td><td>0.6833333        </td></tr>\n",
       "\t<tr><td>dataset_hepatitis</td><td>randomForest     </td><td>rf               </td><td>0.6833333        </td><td>0.6000000        </td><td>0.8500000        </td></tr>\n",
       "\t<tr><td>dataset_ads      </td><td>randomForest     </td><td>rf               </td><td>0.8803406        </td><td>0.8802553        </td><td>0.8805556        </td></tr>\n",
       "\t<tr><td>dataset_blocks   </td><td>randomForest     </td><td>rf               </td><td>0.8852068        </td><td>0.8861176        </td><td>0.8843137        </td></tr>\n",
       "\t<tr><td>dataset_parkinson</td><td>SVM_linear       </td><td>SVM_linear       </td><td>0.9166667        </td><td>0.9500000        </td><td>0.9000000        </td></tr>\n",
       "\t<tr><td>dataset_parkinson</td><td>SVM_polynomial   </td><td>SVM_polynomial   </td><td>0.9166667        </td><td>0.9500000        </td><td>0.9000000        </td></tr>\n",
       "\t<tr><td>dataset_pima     </td><td>randomForest     </td><td>rf               </td><td>0.5409231        </td><td>0.5307692        </td><td>0.5519231        </td></tr>\n",
       "\t<tr><td>dataset_spam     </td><td>randomForest     </td><td>rf               </td><td>0.8725144        </td><td>0.8732143        </td><td>0.8718254        </td></tr>\n",
       "\t<tr><td>dataset_stamps   </td><td>neuralNetwork    </td><td>mlp              </td><td>0.8857143        </td><td>0.8000000        </td><td>1.0000000        </td></tr>\n",
       "\t<tr><td>dataset_wilt     </td><td>neuralNetwork    </td><td>mlp              </td><td>0.9011312        </td><td>0.8961538        </td><td>0.9063077        </td></tr>\n",
       "</tbody>\n",
       "</table>\n"
      ],
      "text/latex": [
       "\\begin{tabular}{r|llllll}\n",
       " dataset & algorithm & variant & algorithm\\_f1 & algorithm\\_precision & algorithm\\_recall\\\\\n",
       "\\hline\n",
       "\t dataset\\_aloi      & randomForest        & rf                  & 0.5895966           & 0.6000766           & 0.5795629          \\\\\n",
       "\t dataset\\_iono      & SVM\\_radial        & SVM\\_radial        & 0.9331795           & 0.9294872           & 0.9371795          \\\\\n",
       "\t dataset\\_kdd       & randomForest        & rf                  & 0.8521795           & 0.8544737           & 0.8500000          \\\\\n",
       "\t dataset\\_pen       & neuralNetwork       & mlp                 & 1.0000000           & 1.0000000           & 1.0000000          \\\\\n",
       "\t dataset\\_shuttle   & CART                & cart                & 0.9000000           & 0.9000000           & 0.9000000          \\\\\n",
       "\t dataset\\_waveform  & SVM\\_radial        & SVM\\_radial        & 0.6000000           & 0.6000000           & 0.6000000          \\\\\n",
       "\t dataset\\_wbc       & randomForest        & rf                  & 0.9000000           & 0.9000000           & 0.9000000          \\\\\n",
       "\t dataset\\_wdbc      & naiveBayes          & nb                  & 0.9000000           & 0.9000000           & 0.9000000          \\\\\n",
       "\t dataset\\_wdbc      & neuralNetwork       & mlp                 & 0.9000000           & 0.9000000           & 0.9000000          \\\\\n",
       "\t dataset\\_wdbc      & SVM\\_linear        & SVM\\_linear        & 0.9000000           & 0.9000000           & 0.9000000          \\\\\n",
       "\t dataset\\_wdbc      & SVM\\_polynomial    & SVM\\_polynomial    & 0.9000000           & 0.9000000           & 0.9000000          \\\\\n",
       "\t dataset\\_wpbc      & SVM\\_linear        & SVM\\_linear        & 0.5355556           & 0.5200000           & 0.5550000          \\\\\n",
       "\t dataset\\_ann       & randomForest        & rf                  & 0.9739010           & 0.9685185           & 0.9793850          \\\\\n",
       "\t dataset\\_arr       & randomForest        & rf                  & 0.5866667           & 0.5666667           & 0.6166667          \\\\\n",
       "\t dataset\\_cardio    & randomForest        & rf                  & 0.8990576           & 0.9001742           & 0.8979675          \\\\\n",
       "\t dataset\\_heart     & naiveBayes          & nb                  & 0.6500000           & 0.6250000           & 0.6833333          \\\\\n",
       "\t dataset\\_hepatitis & randomForest        & rf                  & 0.6833333           & 0.6000000           & 0.8500000          \\\\\n",
       "\t dataset\\_ads       & randomForest        & rf                  & 0.8803406           & 0.8802553           & 0.8805556          \\\\\n",
       "\t dataset\\_blocks    & randomForest        & rf                  & 0.8852068           & 0.8861176           & 0.8843137          \\\\\n",
       "\t dataset\\_parkinson & SVM\\_linear        & SVM\\_linear        & 0.9166667           & 0.9500000           & 0.9000000          \\\\\n",
       "\t dataset\\_parkinson & SVM\\_polynomial    & SVM\\_polynomial    & 0.9166667           & 0.9500000           & 0.9000000          \\\\\n",
       "\t dataset\\_pima      & randomForest        & rf                  & 0.5409231           & 0.5307692           & 0.5519231          \\\\\n",
       "\t dataset\\_spam      & randomForest        & rf                  & 0.8725144           & 0.8732143           & 0.8718254          \\\\\n",
       "\t dataset\\_stamps    & neuralNetwork       & mlp                 & 0.8857143           & 0.8000000           & 1.0000000          \\\\\n",
       "\t dataset\\_wilt      & neuralNetwork       & mlp                 & 0.9011312           & 0.8961538           & 0.9063077          \\\\\n",
       "\\end{tabular}\n"
      ],
      "text/markdown": [
       "\n",
       "dataset | algorithm | variant | algorithm_f1 | algorithm_precision | algorithm_recall | \n",
       "|---|---|---|---|---|---|---|---|---|---|---|---|---|---|---|---|---|---|---|---|---|---|---|---|---|\n",
       "| dataset_aloi      | randomForest      | rf                | 0.5895966         | 0.6000766         | 0.5795629         | \n",
       "| dataset_iono      | SVM_radial        | SVM_radial        | 0.9331795         | 0.9294872         | 0.9371795         | \n",
       "| dataset_kdd       | randomForest      | rf                | 0.8521795         | 0.8544737         | 0.8500000         | \n",
       "| dataset_pen       | neuralNetwork     | mlp               | 1.0000000         | 1.0000000         | 1.0000000         | \n",
       "| dataset_shuttle   | CART              | cart              | 0.9000000         | 0.9000000         | 0.9000000         | \n",
       "| dataset_waveform  | SVM_radial        | SVM_radial        | 0.6000000         | 0.6000000         | 0.6000000         | \n",
       "| dataset_wbc       | randomForest      | rf                | 0.9000000         | 0.9000000         | 0.9000000         | \n",
       "| dataset_wdbc      | naiveBayes        | nb                | 0.9000000         | 0.9000000         | 0.9000000         | \n",
       "| dataset_wdbc      | neuralNetwork     | mlp               | 0.9000000         | 0.9000000         | 0.9000000         | \n",
       "| dataset_wdbc      | SVM_linear        | SVM_linear        | 0.9000000         | 0.9000000         | 0.9000000         | \n",
       "| dataset_wdbc      | SVM_polynomial    | SVM_polynomial    | 0.9000000         | 0.9000000         | 0.9000000         | \n",
       "| dataset_wpbc      | SVM_linear        | SVM_linear        | 0.5355556         | 0.5200000         | 0.5550000         | \n",
       "| dataset_ann       | randomForest      | rf                | 0.9739010         | 0.9685185         | 0.9793850         | \n",
       "| dataset_arr       | randomForest      | rf                | 0.5866667         | 0.5666667         | 0.6166667         | \n",
       "| dataset_cardio    | randomForest      | rf                | 0.8990576         | 0.9001742         | 0.8979675         | \n",
       "| dataset_heart     | naiveBayes        | nb                | 0.6500000         | 0.6250000         | 0.6833333         | \n",
       "| dataset_hepatitis | randomForest      | rf                | 0.6833333         | 0.6000000         | 0.8500000         | \n",
       "| dataset_ads       | randomForest      | rf                | 0.8803406         | 0.8802553         | 0.8805556         | \n",
       "| dataset_blocks    | randomForest      | rf                | 0.8852068         | 0.8861176         | 0.8843137         | \n",
       "| dataset_parkinson | SVM_linear        | SVM_linear        | 0.9166667         | 0.9500000         | 0.9000000         | \n",
       "| dataset_parkinson | SVM_polynomial    | SVM_polynomial    | 0.9166667         | 0.9500000         | 0.9000000         | \n",
       "| dataset_pima      | randomForest      | rf                | 0.5409231         | 0.5307692         | 0.5519231         | \n",
       "| dataset_spam      | randomForest      | rf                | 0.8725144         | 0.8732143         | 0.8718254         | \n",
       "| dataset_stamps    | neuralNetwork     | mlp               | 0.8857143         | 0.8000000         | 1.0000000         | \n",
       "| dataset_wilt      | neuralNetwork     | mlp               | 0.9011312         | 0.8961538         | 0.9063077         | \n",
       "\n",
       "\n"
      ],
      "text/plain": [
       "   dataset           algorithm      variant        algorithm_f1\n",
       "1  dataset_aloi      randomForest   rf             0.5895966   \n",
       "2  dataset_iono      SVM_radial     SVM_radial     0.9331795   \n",
       "3  dataset_kdd       randomForest   rf             0.8521795   \n",
       "4  dataset_pen       neuralNetwork  mlp            1.0000000   \n",
       "5  dataset_shuttle   CART           cart           0.9000000   \n",
       "6  dataset_waveform  SVM_radial     SVM_radial     0.6000000   \n",
       "7  dataset_wbc       randomForest   rf             0.9000000   \n",
       "8  dataset_wdbc      naiveBayes     nb             0.9000000   \n",
       "9  dataset_wdbc      neuralNetwork  mlp            0.9000000   \n",
       "10 dataset_wdbc      SVM_linear     SVM_linear     0.9000000   \n",
       "11 dataset_wdbc      SVM_polynomial SVM_polynomial 0.9000000   \n",
       "12 dataset_wpbc      SVM_linear     SVM_linear     0.5355556   \n",
       "13 dataset_ann       randomForest   rf             0.9739010   \n",
       "14 dataset_arr       randomForest   rf             0.5866667   \n",
       "15 dataset_cardio    randomForest   rf             0.8990576   \n",
       "16 dataset_heart     naiveBayes     nb             0.6500000   \n",
       "17 dataset_hepatitis randomForest   rf             0.6833333   \n",
       "18 dataset_ads       randomForest   rf             0.8803406   \n",
       "19 dataset_blocks    randomForest   rf             0.8852068   \n",
       "20 dataset_parkinson SVM_linear     SVM_linear     0.9166667   \n",
       "21 dataset_parkinson SVM_polynomial SVM_polynomial 0.9166667   \n",
       "22 dataset_pima      randomForest   rf             0.5409231   \n",
       "23 dataset_spam      randomForest   rf             0.8725144   \n",
       "24 dataset_stamps    neuralNetwork  mlp            0.8857143   \n",
       "25 dataset_wilt      neuralNetwork  mlp            0.9011312   \n",
       "   algorithm_precision algorithm_recall\n",
       "1  0.6000766           0.5795629       \n",
       "2  0.9294872           0.9371795       \n",
       "3  0.8544737           0.8500000       \n",
       "4  1.0000000           1.0000000       \n",
       "5  0.9000000           0.9000000       \n",
       "6  0.6000000           0.6000000       \n",
       "7  0.9000000           0.9000000       \n",
       "8  0.9000000           0.9000000       \n",
       "9  0.9000000           0.9000000       \n",
       "10 0.9000000           0.9000000       \n",
       "11 0.9000000           0.9000000       \n",
       "12 0.5200000           0.5550000       \n",
       "13 0.9685185           0.9793850       \n",
       "14 0.5666667           0.6166667       \n",
       "15 0.9001742           0.8979675       \n",
       "16 0.6250000           0.6833333       \n",
       "17 0.6000000           0.8500000       \n",
       "18 0.8802553           0.8805556       \n",
       "19 0.8861176           0.8843137       \n",
       "20 0.9500000           0.9000000       \n",
       "21 0.9500000           0.9000000       \n",
       "22 0.5307692           0.5519231       \n",
       "23 0.8732143           0.8718254       \n",
       "24 0.8000000           1.0000000       \n",
       "25 0.8961538           0.9063077       "
      ]
     },
     "metadata": {},
     "output_type": "display_data"
    }
   ],
   "source": [
    "evaluation_algorithms %>% filter(algorithm %in% supervised_algorithms) %>% group_by(dataset) %>% top_n(1, algorithm_f1)"
   ]
  },
  {
   "cell_type": "code",
   "execution_count": 10,
   "metadata": {
    "collapsed": true
   },
   "outputs": [],
   "source": [
    "best_algs_sup <- .Last.value"
   ]
  },
  {
   "cell_type": "code",
   "execution_count": 11,
   "metadata": {},
   "outputs": [
    {
     "data": {
      "text/html": [
       "<table>\n",
       "<thead><tr><th scope=col>dataset</th><th scope=col>algorithm</th><th scope=col>variant</th><th scope=col>algorithm_f1</th><th scope=col>algorithm_precision</th><th scope=col>algorithm_recall</th></tr></thead>\n",
       "<tbody>\n",
       "\t<tr><td>dataset_aloi      </td><td>LOF               </td><td>lof_03            </td><td>0.2068966         </td><td>0.2068966         </td><td>0.2068966         </td></tr>\n",
       "\t<tr><td>dataset_iono      </td><td>kmeans            </td><td>kmeans_25         </td><td>0.8492063         </td><td>0.8492063         </td><td>0.8492063         </td></tr>\n",
       "\t<tr><td>dataset_kdd       </td><td>kmeans            </td><td>kmeans_08         </td><td>0.5600000         </td><td>0.5600000         </td><td>0.5600000         </td></tr>\n",
       "\t<tr><td>dataset_pen       </td><td>LOF               </td><td>lof_03            </td><td>0.0500000         </td><td>0.0500000         </td><td>0.0500000         </td></tr>\n",
       "\t<tr><td>dataset_pen       </td><td>LOF               </td><td>lof_05            </td><td>0.0500000         </td><td>0.0500000         </td><td>0.0500000         </td></tr>\n",
       "\t<tr><td>dataset_pen       </td><td>LOF               </td><td>lof_08            </td><td>0.0500000         </td><td>0.0500000         </td><td>0.0500000         </td></tr>\n",
       "\t<tr><td>dataset_pen       </td><td>LOF               </td><td>lof_14            </td><td>0.0500000         </td><td>0.0500000         </td><td>0.0500000         </td></tr>\n",
       "\t<tr><td>dataset_pen       </td><td>LOF               </td><td>lof_19            </td><td>0.0500000         </td><td>0.0500000         </td><td>0.0500000         </td></tr>\n",
       "\t<tr><td>dataset_shuttle   </td><td>DBSCAN            </td><td>dbscan_1.1        </td><td>0.4905660         </td><td>0.3250000         </td><td>1.0000000         </td></tr>\n",
       "\t<tr><td>dataset_waveform  </td><td>kmeans            </td><td>kmeans_30         </td><td>0.2100000         </td><td>0.2100000         </td><td>0.2100000         </td></tr>\n",
       "\t<tr><td>dataset_wbc       </td><td>kmeans            </td><td>kmeans_19         </td><td>0.6000000         </td><td>0.6000000         </td><td>0.6000000         </td></tr>\n",
       "\t<tr><td>dataset_wdbc      </td><td>kmeans            </td><td>kmeans_30         </td><td>0.7000000         </td><td>0.7000000         </td><td>0.7000000         </td></tr>\n",
       "\t<tr><td>dataset_wdbc      </td><td>LOF               </td><td>lof_19            </td><td>0.7000000         </td><td>0.7000000         </td><td>0.7000000         </td></tr>\n",
       "\t<tr><td>dataset_wpbc      </td><td>DBSCAN            </td><td>dbscan_0.3        </td><td>0.3836735         </td><td>0.2373737         </td><td>1.0000000         </td></tr>\n",
       "\t<tr><td>dataset_wpbc      </td><td>DBSCAN            </td><td>dbscan_0.5        </td><td>0.3836735         </td><td>0.2373737         </td><td>1.0000000         </td></tr>\n",
       "\t<tr><td>dataset_wpbc      </td><td>DBSCAN            </td><td>dbscan_0.7        </td><td>0.3836735         </td><td>0.2373737         </td><td>1.0000000         </td></tr>\n",
       "\t<tr><td>dataset_wpbc      </td><td>DBSCAN            </td><td>dbscan_0.9        </td><td>0.3836735         </td><td>0.2373737         </td><td>1.0000000         </td></tr>\n",
       "\t<tr><td>dataset_wpbc      </td><td>DBSCAN            </td><td>dbscan_1.1        </td><td>0.3836735         </td><td>0.2373737         </td><td>1.0000000         </td></tr>\n",
       "\t<tr><td>dataset_ann       </td><td>oneClassSVM_radial</td><td>oneClassSVM_radial</td><td>0.2028011         </td><td>0.1159369         </td><td>0.8091894         </td></tr>\n",
       "\t<tr><td>dataset_arr       </td><td>kmeans            </td><td>kmeans_03         </td><td>0.3333333         </td><td>0.3333333         </td><td>0.3333333         </td></tr>\n",
       "\t<tr><td>dataset_arr       </td><td>LOF               </td><td>lof_19            </td><td>0.3333333         </td><td>0.3333333         </td><td>0.3333333         </td></tr>\n",
       "\t<tr><td>dataset_arr       </td><td>LOF               </td><td>lof_25            </td><td>0.3333333         </td><td>0.3333333         </td><td>0.3333333         </td></tr>\n",
       "\t<tr><td>dataset_arr       </td><td>LOF               </td><td>lof_30            </td><td>0.3333333         </td><td>0.3333333         </td><td>0.3333333         </td></tr>\n",
       "\t<tr><td>dataset_cardio    </td><td>oneClassSVM_radial</td><td>oneClassSVM_radial</td><td>0.4643530         </td><td>0.3118061         </td><td>0.9100465         </td></tr>\n",
       "\t<tr><td>dataset_heart     </td><td>oneClassSVM_radial</td><td>oneClassSVM_radial</td><td>0.4720686         </td><td>0.3218561         </td><td>0.9250000         </td></tr>\n",
       "\t<tr><td>dataset_hepatitis </td><td>oneClassSVM_radial</td><td>oneClassSVM_radial</td><td>0.3799351         </td><td>0.2381746         </td><td>1.0000000         </td></tr>\n",
       "\t<tr><td>dataset_ads       </td><td>oneClassSVM_radial</td><td>oneClassSVM_radial</td><td>0.3982663         </td><td>0.2610599         </td><td>0.8426426         </td></tr>\n",
       "\t<tr><td>dataset_blocks    </td><td>kmeans            </td><td>kmeans_03         </td><td>0.6431373         </td><td>0.6431373         </td><td>0.6431373         </td></tr>\n",
       "\t<tr><td>dataset_parkinson </td><td>kmeans            </td><td>kmeans_08         </td><td>0.6666667         </td><td>0.6666667         </td><td>0.6666667         </td></tr>\n",
       "\t<tr><td>dataset_parkinson </td><td>kmeans            </td><td>kmeans_14         </td><td>0.6666667         </td><td>0.6666667         </td><td>0.6666667         </td></tr>\n",
       "\t<tr><td>dataset_pima      </td><td>DBSCAN            </td><td>dbscan_1.1        </td><td>0.4079422         </td><td>0.2634033         </td><td>0.9040000         </td></tr>\n",
       "\t<tr><td>dataset_spam      </td><td>oneClassSVM_radial</td><td>oneClassSVM_radial</td><td>0.4559736         </td><td>0.3068594         </td><td>0.8875744         </td></tr>\n",
       "\t<tr><td>dataset_stamps    </td><td>DBSCAN            </td><td>dbscan_1.1        </td><td>0.3100000         </td><td>0.1834320         </td><td>1.0000000         </td></tr>\n",
       "\t<tr><td>dataset_wilt      </td><td>oneClassSVM_linear</td><td>oneClassSVM_linear</td><td>0.1739730         </td><td>0.1070847         </td><td>0.7767692         </td></tr>\n",
       "</tbody>\n",
       "</table>\n"
      ],
      "text/latex": [
       "\\begin{tabular}{r|llllll}\n",
       " dataset & algorithm & variant & algorithm\\_f1 & algorithm\\_precision & algorithm\\_recall\\\\\n",
       "\\hline\n",
       "\t dataset\\_aloi       & LOF                  & lof\\_03             & 0.2068966            & 0.2068966            & 0.2068966           \\\\\n",
       "\t dataset\\_iono       & kmeans               & kmeans\\_25          & 0.8492063            & 0.8492063            & 0.8492063           \\\\\n",
       "\t dataset\\_kdd        & kmeans               & kmeans\\_08          & 0.5600000            & 0.5600000            & 0.5600000           \\\\\n",
       "\t dataset\\_pen        & LOF                  & lof\\_03             & 0.0500000            & 0.0500000            & 0.0500000           \\\\\n",
       "\t dataset\\_pen        & LOF                  & lof\\_05             & 0.0500000            & 0.0500000            & 0.0500000           \\\\\n",
       "\t dataset\\_pen        & LOF                  & lof\\_08             & 0.0500000            & 0.0500000            & 0.0500000           \\\\\n",
       "\t dataset\\_pen        & LOF                  & lof\\_14             & 0.0500000            & 0.0500000            & 0.0500000           \\\\\n",
       "\t dataset\\_pen        & LOF                  & lof\\_19             & 0.0500000            & 0.0500000            & 0.0500000           \\\\\n",
       "\t dataset\\_shuttle    & DBSCAN               & dbscan\\_1.1         & 0.4905660            & 0.3250000            & 1.0000000           \\\\\n",
       "\t dataset\\_waveform   & kmeans               & kmeans\\_30          & 0.2100000            & 0.2100000            & 0.2100000           \\\\\n",
       "\t dataset\\_wbc        & kmeans               & kmeans\\_19          & 0.6000000            & 0.6000000            & 0.6000000           \\\\\n",
       "\t dataset\\_wdbc       & kmeans               & kmeans\\_30          & 0.7000000            & 0.7000000            & 0.7000000           \\\\\n",
       "\t dataset\\_wdbc       & LOF                  & lof\\_19             & 0.7000000            & 0.7000000            & 0.7000000           \\\\\n",
       "\t dataset\\_wpbc       & DBSCAN               & dbscan\\_0.3         & 0.3836735            & 0.2373737            & 1.0000000           \\\\\n",
       "\t dataset\\_wpbc       & DBSCAN               & dbscan\\_0.5         & 0.3836735            & 0.2373737            & 1.0000000           \\\\\n",
       "\t dataset\\_wpbc       & DBSCAN               & dbscan\\_0.7         & 0.3836735            & 0.2373737            & 1.0000000           \\\\\n",
       "\t dataset\\_wpbc       & DBSCAN               & dbscan\\_0.9         & 0.3836735            & 0.2373737            & 1.0000000           \\\\\n",
       "\t dataset\\_wpbc       & DBSCAN               & dbscan\\_1.1         & 0.3836735            & 0.2373737            & 1.0000000           \\\\\n",
       "\t dataset\\_ann        & oneClassSVM\\_radial & oneClassSVM\\_radial & 0.2028011            & 0.1159369            & 0.8091894           \\\\\n",
       "\t dataset\\_arr        & kmeans               & kmeans\\_03          & 0.3333333            & 0.3333333            & 0.3333333           \\\\\n",
       "\t dataset\\_arr        & LOF                  & lof\\_19             & 0.3333333            & 0.3333333            & 0.3333333           \\\\\n",
       "\t dataset\\_arr        & LOF                  & lof\\_25             & 0.3333333            & 0.3333333            & 0.3333333           \\\\\n",
       "\t dataset\\_arr        & LOF                  & lof\\_30             & 0.3333333            & 0.3333333            & 0.3333333           \\\\\n",
       "\t dataset\\_cardio     & oneClassSVM\\_radial & oneClassSVM\\_radial & 0.4643530            & 0.3118061            & 0.9100465           \\\\\n",
       "\t dataset\\_heart      & oneClassSVM\\_radial & oneClassSVM\\_radial & 0.4720686            & 0.3218561            & 0.9250000           \\\\\n",
       "\t dataset\\_hepatitis  & oneClassSVM\\_radial & oneClassSVM\\_radial & 0.3799351            & 0.2381746            & 1.0000000           \\\\\n",
       "\t dataset\\_ads        & oneClassSVM\\_radial & oneClassSVM\\_radial & 0.3982663            & 0.2610599            & 0.8426426           \\\\\n",
       "\t dataset\\_blocks     & kmeans               & kmeans\\_03          & 0.6431373            & 0.6431373            & 0.6431373           \\\\\n",
       "\t dataset\\_parkinson  & kmeans               & kmeans\\_08          & 0.6666667            & 0.6666667            & 0.6666667           \\\\\n",
       "\t dataset\\_parkinson  & kmeans               & kmeans\\_14          & 0.6666667            & 0.6666667            & 0.6666667           \\\\\n",
       "\t dataset\\_pima       & DBSCAN               & dbscan\\_1.1         & 0.4079422            & 0.2634033            & 0.9040000           \\\\\n",
       "\t dataset\\_spam       & oneClassSVM\\_radial & oneClassSVM\\_radial & 0.4559736            & 0.3068594            & 0.8875744           \\\\\n",
       "\t dataset\\_stamps     & DBSCAN               & dbscan\\_1.1         & 0.3100000            & 0.1834320            & 1.0000000           \\\\\n",
       "\t dataset\\_wilt       & oneClassSVM\\_linear & oneClassSVM\\_linear & 0.1739730            & 0.1070847            & 0.7767692           \\\\\n",
       "\\end{tabular}\n"
      ],
      "text/markdown": [
       "\n",
       "dataset | algorithm | variant | algorithm_f1 | algorithm_precision | algorithm_recall | \n",
       "|---|---|---|---|---|---|---|---|---|---|---|---|---|---|---|---|---|---|---|---|---|---|---|---|---|---|---|---|---|---|---|---|---|---|\n",
       "| dataset_aloi       | LOF                | lof_03             | 0.2068966          | 0.2068966          | 0.2068966          | \n",
       "| dataset_iono       | kmeans             | kmeans_25          | 0.8492063          | 0.8492063          | 0.8492063          | \n",
       "| dataset_kdd        | kmeans             | kmeans_08          | 0.5600000          | 0.5600000          | 0.5600000          | \n",
       "| dataset_pen        | LOF                | lof_03             | 0.0500000          | 0.0500000          | 0.0500000          | \n",
       "| dataset_pen        | LOF                | lof_05             | 0.0500000          | 0.0500000          | 0.0500000          | \n",
       "| dataset_pen        | LOF                | lof_08             | 0.0500000          | 0.0500000          | 0.0500000          | \n",
       "| dataset_pen        | LOF                | lof_14             | 0.0500000          | 0.0500000          | 0.0500000          | \n",
       "| dataset_pen        | LOF                | lof_19             | 0.0500000          | 0.0500000          | 0.0500000          | \n",
       "| dataset_shuttle    | DBSCAN             | dbscan_1.1         | 0.4905660          | 0.3250000          | 1.0000000          | \n",
       "| dataset_waveform   | kmeans             | kmeans_30          | 0.2100000          | 0.2100000          | 0.2100000          | \n",
       "| dataset_wbc        | kmeans             | kmeans_19          | 0.6000000          | 0.6000000          | 0.6000000          | \n",
       "| dataset_wdbc       | kmeans             | kmeans_30          | 0.7000000          | 0.7000000          | 0.7000000          | \n",
       "| dataset_wdbc       | LOF                | lof_19             | 0.7000000          | 0.7000000          | 0.7000000          | \n",
       "| dataset_wpbc       | DBSCAN             | dbscan_0.3         | 0.3836735          | 0.2373737          | 1.0000000          | \n",
       "| dataset_wpbc       | DBSCAN             | dbscan_0.5         | 0.3836735          | 0.2373737          | 1.0000000          | \n",
       "| dataset_wpbc       | DBSCAN             | dbscan_0.7         | 0.3836735          | 0.2373737          | 1.0000000          | \n",
       "| dataset_wpbc       | DBSCAN             | dbscan_0.9         | 0.3836735          | 0.2373737          | 1.0000000          | \n",
       "| dataset_wpbc       | DBSCAN             | dbscan_1.1         | 0.3836735          | 0.2373737          | 1.0000000          | \n",
       "| dataset_ann        | oneClassSVM_radial | oneClassSVM_radial | 0.2028011          | 0.1159369          | 0.8091894          | \n",
       "| dataset_arr        | kmeans             | kmeans_03          | 0.3333333          | 0.3333333          | 0.3333333          | \n",
       "| dataset_arr        | LOF                | lof_19             | 0.3333333          | 0.3333333          | 0.3333333          | \n",
       "| dataset_arr        | LOF                | lof_25             | 0.3333333          | 0.3333333          | 0.3333333          | \n",
       "| dataset_arr        | LOF                | lof_30             | 0.3333333          | 0.3333333          | 0.3333333          | \n",
       "| dataset_cardio     | oneClassSVM_radial | oneClassSVM_radial | 0.4643530          | 0.3118061          | 0.9100465          | \n",
       "| dataset_heart      | oneClassSVM_radial | oneClassSVM_radial | 0.4720686          | 0.3218561          | 0.9250000          | \n",
       "| dataset_hepatitis  | oneClassSVM_radial | oneClassSVM_radial | 0.3799351          | 0.2381746          | 1.0000000          | \n",
       "| dataset_ads        | oneClassSVM_radial | oneClassSVM_radial | 0.3982663          | 0.2610599          | 0.8426426          | \n",
       "| dataset_blocks     | kmeans             | kmeans_03          | 0.6431373          | 0.6431373          | 0.6431373          | \n",
       "| dataset_parkinson  | kmeans             | kmeans_08          | 0.6666667          | 0.6666667          | 0.6666667          | \n",
       "| dataset_parkinson  | kmeans             | kmeans_14          | 0.6666667          | 0.6666667          | 0.6666667          | \n",
       "| dataset_pima       | DBSCAN             | dbscan_1.1         | 0.4079422          | 0.2634033          | 0.9040000          | \n",
       "| dataset_spam       | oneClassSVM_radial | oneClassSVM_radial | 0.4559736          | 0.3068594          | 0.8875744          | \n",
       "| dataset_stamps     | DBSCAN             | dbscan_1.1         | 0.3100000          | 0.1834320          | 1.0000000          | \n",
       "| dataset_wilt       | oneClassSVM_linear | oneClassSVM_linear | 0.1739730          | 0.1070847          | 0.7767692          | \n",
       "\n",
       "\n"
      ],
      "text/plain": [
       "   dataset           algorithm          variant            algorithm_f1\n",
       "1  dataset_aloi      LOF                lof_03             0.2068966   \n",
       "2  dataset_iono      kmeans             kmeans_25          0.8492063   \n",
       "3  dataset_kdd       kmeans             kmeans_08          0.5600000   \n",
       "4  dataset_pen       LOF                lof_03             0.0500000   \n",
       "5  dataset_pen       LOF                lof_05             0.0500000   \n",
       "6  dataset_pen       LOF                lof_08             0.0500000   \n",
       "7  dataset_pen       LOF                lof_14             0.0500000   \n",
       "8  dataset_pen       LOF                lof_19             0.0500000   \n",
       "9  dataset_shuttle   DBSCAN             dbscan_1.1         0.4905660   \n",
       "10 dataset_waveform  kmeans             kmeans_30          0.2100000   \n",
       "11 dataset_wbc       kmeans             kmeans_19          0.6000000   \n",
       "12 dataset_wdbc      kmeans             kmeans_30          0.7000000   \n",
       "13 dataset_wdbc      LOF                lof_19             0.7000000   \n",
       "14 dataset_wpbc      DBSCAN             dbscan_0.3         0.3836735   \n",
       "15 dataset_wpbc      DBSCAN             dbscan_0.5         0.3836735   \n",
       "16 dataset_wpbc      DBSCAN             dbscan_0.7         0.3836735   \n",
       "17 dataset_wpbc      DBSCAN             dbscan_0.9         0.3836735   \n",
       "18 dataset_wpbc      DBSCAN             dbscan_1.1         0.3836735   \n",
       "19 dataset_ann       oneClassSVM_radial oneClassSVM_radial 0.2028011   \n",
       "20 dataset_arr       kmeans             kmeans_03          0.3333333   \n",
       "21 dataset_arr       LOF                lof_19             0.3333333   \n",
       "22 dataset_arr       LOF                lof_25             0.3333333   \n",
       "23 dataset_arr       LOF                lof_30             0.3333333   \n",
       "24 dataset_cardio    oneClassSVM_radial oneClassSVM_radial 0.4643530   \n",
       "25 dataset_heart     oneClassSVM_radial oneClassSVM_radial 0.4720686   \n",
       "26 dataset_hepatitis oneClassSVM_radial oneClassSVM_radial 0.3799351   \n",
       "27 dataset_ads       oneClassSVM_radial oneClassSVM_radial 0.3982663   \n",
       "28 dataset_blocks    kmeans             kmeans_03          0.6431373   \n",
       "29 dataset_parkinson kmeans             kmeans_08          0.6666667   \n",
       "30 dataset_parkinson kmeans             kmeans_14          0.6666667   \n",
       "31 dataset_pima      DBSCAN             dbscan_1.1         0.4079422   \n",
       "32 dataset_spam      oneClassSVM_radial oneClassSVM_radial 0.4559736   \n",
       "33 dataset_stamps    DBSCAN             dbscan_1.1         0.3100000   \n",
       "34 dataset_wilt      oneClassSVM_linear oneClassSVM_linear 0.1739730   \n",
       "   algorithm_precision algorithm_recall\n",
       "1  0.2068966           0.2068966       \n",
       "2  0.8492063           0.8492063       \n",
       "3  0.5600000           0.5600000       \n",
       "4  0.0500000           0.0500000       \n",
       "5  0.0500000           0.0500000       \n",
       "6  0.0500000           0.0500000       \n",
       "7  0.0500000           0.0500000       \n",
       "8  0.0500000           0.0500000       \n",
       "9  0.3250000           1.0000000       \n",
       "10 0.2100000           0.2100000       \n",
       "11 0.6000000           0.6000000       \n",
       "12 0.7000000           0.7000000       \n",
       "13 0.7000000           0.7000000       \n",
       "14 0.2373737           1.0000000       \n",
       "15 0.2373737           1.0000000       \n",
       "16 0.2373737           1.0000000       \n",
       "17 0.2373737           1.0000000       \n",
       "18 0.2373737           1.0000000       \n",
       "19 0.1159369           0.8091894       \n",
       "20 0.3333333           0.3333333       \n",
       "21 0.3333333           0.3333333       \n",
       "22 0.3333333           0.3333333       \n",
       "23 0.3333333           0.3333333       \n",
       "24 0.3118061           0.9100465       \n",
       "25 0.3218561           0.9250000       \n",
       "26 0.2381746           1.0000000       \n",
       "27 0.2610599           0.8426426       \n",
       "28 0.6431373           0.6431373       \n",
       "29 0.6666667           0.6666667       \n",
       "30 0.6666667           0.6666667       \n",
       "31 0.2634033           0.9040000       \n",
       "32 0.3068594           0.8875744       \n",
       "33 0.1834320           1.0000000       \n",
       "34 0.1070847           0.7767692       "
      ]
     },
     "metadata": {},
     "output_type": "display_data"
    }
   ],
   "source": [
    "evaluation_algorithms %>% filter(algorithm %in% unsupervised_algorithms) %>% group_by(dataset) %>% top_n(1, algorithm_f1)"
   ]
  },
  {
   "cell_type": "code",
   "execution_count": 12,
   "metadata": {
    "collapsed": true
   },
   "outputs": [],
   "source": [
    "best_algs_un <- .Last.value"
   ]
  },
  {
   "cell_type": "markdown",
   "metadata": {},
   "source": [
    "# Ensemble"
   ]
  },
  {
   "cell_type": "code",
   "execution_count": 13,
   "metadata": {},
   "outputs": [
    {
     "data": {
      "text/html": [
       "<table>\n",
       "<thead><tr><th scope=col>dataset</th><th scope=col>ensemble_all</th><th scope=col>ensemble_f1</th><th scope=col>ensemble_precision</th><th scope=col>ensemble_recall</th></tr></thead>\n",
       "<tbody>\n",
       "\t<tr><td>dataset_aloi     </td><td>mlp              </td><td>0.6033737        </td><td>0.7481859        </td><td>0.5066446        </td></tr>\n",
       "\t<tr><td>dataset_iono     </td><td>rf               </td><td>0.9394954        </td><td>0.9508059        </td><td>0.9352564        </td></tr>\n",
       "\t<tr><td>dataset_kdd      </td><td>rf               </td><td>0.8743555        </td><td>0.9493693        </td><td>0.8200000        </td></tr>\n",
       "\t<tr><td>dataset_pen      </td><td>rpart            </td><td>0.9800000        </td><td>0.9666667        </td><td>1.0000000        </td></tr>\n",
       "\t<tr><td>dataset_pen      </td><td>mlp              </td><td>0.9800000        </td><td>0.9666667        </td><td>1.0000000        </td></tr>\n",
       "\t<tr><td>dataset_shuttle  </td><td>mlp              </td><td>0.9800000        </td><td>0.9666667        </td><td>1.0000000        </td></tr>\n",
       "\t<tr><td>dataset_waveform </td><td>glm              </td><td>0.5782653        </td><td>0.8482143        </td><td>0.4700000        </td></tr>\n",
       "\t<tr><td>dataset_wbc      </td><td>rpart            </td><td>0.8000000        </td><td>0.7500000        </td><td>0.9000000        </td></tr>\n",
       "\t<tr><td>dataset_wdbc     </td><td>rf               </td><td>0.8000000        </td><td>0.8000000        </td><td>0.8000000        </td></tr>\n",
       "\t<tr><td>dataset_wpbc     </td><td>rpart            </td><td>0.4675469        </td><td>0.6059524        </td><td>0.4000000        </td></tr>\n",
       "\t<tr><td>dataset_ann      </td><td>rpart            </td><td>0.9753529        </td><td>0.9628702        </td><td>0.9888190        </td></tr>\n",
       "\t<tr><td>dataset_arr      </td><td>mlp              </td><td>0.5833333        </td><td>0.6500000        </td><td>0.5500000        </td></tr>\n",
       "\t<tr><td>dataset_cardio   </td><td>rpart            </td><td>0.9026999        </td><td>0.9228273        </td><td>0.8861208        </td></tr>\n",
       "\t<tr><td>dataset_heart    </td><td>mlp              </td><td>0.6238312        </td><td>0.7178571        </td><td>0.5833333        </td></tr>\n",
       "\t<tr><td>dataset_hepatitis</td><td>rf               </td><td>0.5333333        </td><td>0.6000000        </td><td>0.5000000        </td></tr>\n",
       "\t<tr><td>dataset_ads      </td><td>glm              </td><td>0.9013635        </td><td>0.9494595        </td><td>0.8587087        </td></tr>\n",
       "\t<tr><td>dataset_blocks   </td><td>rpart            </td><td>0.8899327        </td><td>0.8901465        </td><td>0.8901961        </td></tr>\n",
       "\t<tr><td>dataset_parkinson</td><td>mlp              </td><td>0.7466667        </td><td>0.7366667        </td><td>0.8500000        </td></tr>\n",
       "\t<tr><td>dataset_pima     </td><td>majority         </td><td>0.4647303        </td><td>0.4827586        </td><td>0.4480000        </td></tr>\n",
       "\t<tr><td>dataset_spam     </td><td>rf               </td><td>0.8863591        </td><td>0.9062263        </td><td>0.8687500        </td></tr>\n",
       "\t<tr><td>dataset_stamps   </td><td>rpart            </td><td>0.9095238        </td><td>0.9166667        </td><td>0.9083333        </td></tr>\n",
       "\t<tr><td>dataset_wilt     </td><td>rf               </td><td>0.8959674        </td><td>0.9173944        </td><td>0.8789231        </td></tr>\n",
       "</tbody>\n",
       "</table>\n"
      ],
      "text/latex": [
       "\\begin{tabular}{r|lllll}\n",
       " dataset & ensemble\\_all & ensemble\\_f1 & ensemble\\_precision & ensemble\\_recall\\\\\n",
       "\\hline\n",
       "\t dataset\\_aloi      & mlp                 & 0.6033737           & 0.7481859           & 0.5066446          \\\\\n",
       "\t dataset\\_iono      & rf                  & 0.9394954           & 0.9508059           & 0.9352564          \\\\\n",
       "\t dataset\\_kdd       & rf                  & 0.8743555           & 0.9493693           & 0.8200000          \\\\\n",
       "\t dataset\\_pen       & rpart               & 0.9800000           & 0.9666667           & 1.0000000          \\\\\n",
       "\t dataset\\_pen       & mlp                 & 0.9800000           & 0.9666667           & 1.0000000          \\\\\n",
       "\t dataset\\_shuttle   & mlp                 & 0.9800000           & 0.9666667           & 1.0000000          \\\\\n",
       "\t dataset\\_waveform  & glm                 & 0.5782653           & 0.8482143           & 0.4700000          \\\\\n",
       "\t dataset\\_wbc       & rpart               & 0.8000000           & 0.7500000           & 0.9000000          \\\\\n",
       "\t dataset\\_wdbc      & rf                  & 0.8000000           & 0.8000000           & 0.8000000          \\\\\n",
       "\t dataset\\_wpbc      & rpart               & 0.4675469           & 0.6059524           & 0.4000000          \\\\\n",
       "\t dataset\\_ann       & rpart               & 0.9753529           & 0.9628702           & 0.9888190          \\\\\n",
       "\t dataset\\_arr       & mlp                 & 0.5833333           & 0.6500000           & 0.5500000          \\\\\n",
       "\t dataset\\_cardio    & rpart               & 0.9026999           & 0.9228273           & 0.8861208          \\\\\n",
       "\t dataset\\_heart     & mlp                 & 0.6238312           & 0.7178571           & 0.5833333          \\\\\n",
       "\t dataset\\_hepatitis & rf                  & 0.5333333           & 0.6000000           & 0.5000000          \\\\\n",
       "\t dataset\\_ads       & glm                 & 0.9013635           & 0.9494595           & 0.8587087          \\\\\n",
       "\t dataset\\_blocks    & rpart               & 0.8899327           & 0.8901465           & 0.8901961          \\\\\n",
       "\t dataset\\_parkinson & mlp                 & 0.7466667           & 0.7366667           & 0.8500000          \\\\\n",
       "\t dataset\\_pima      & majority            & 0.4647303           & 0.4827586           & 0.4480000          \\\\\n",
       "\t dataset\\_spam      & rf                  & 0.8863591           & 0.9062263           & 0.8687500          \\\\\n",
       "\t dataset\\_stamps    & rpart               & 0.9095238           & 0.9166667           & 0.9083333          \\\\\n",
       "\t dataset\\_wilt      & rf                  & 0.8959674           & 0.9173944           & 0.8789231          \\\\\n",
       "\\end{tabular}\n"
      ],
      "text/markdown": [
       "\n",
       "dataset | ensemble_all | ensemble_f1 | ensemble_precision | ensemble_recall | \n",
       "|---|---|---|---|---|---|---|---|---|---|---|---|---|---|---|---|---|---|---|---|---|---|\n",
       "| dataset_aloi      | mlp               | 0.6033737         | 0.7481859         | 0.5066446         | \n",
       "| dataset_iono      | rf                | 0.9394954         | 0.9508059         | 0.9352564         | \n",
       "| dataset_kdd       | rf                | 0.8743555         | 0.9493693         | 0.8200000         | \n",
       "| dataset_pen       | rpart             | 0.9800000         | 0.9666667         | 1.0000000         | \n",
       "| dataset_pen       | mlp               | 0.9800000         | 0.9666667         | 1.0000000         | \n",
       "| dataset_shuttle   | mlp               | 0.9800000         | 0.9666667         | 1.0000000         | \n",
       "| dataset_waveform  | glm               | 0.5782653         | 0.8482143         | 0.4700000         | \n",
       "| dataset_wbc       | rpart             | 0.8000000         | 0.7500000         | 0.9000000         | \n",
       "| dataset_wdbc      | rf                | 0.8000000         | 0.8000000         | 0.8000000         | \n",
       "| dataset_wpbc      | rpart             | 0.4675469         | 0.6059524         | 0.4000000         | \n",
       "| dataset_ann       | rpart             | 0.9753529         | 0.9628702         | 0.9888190         | \n",
       "| dataset_arr       | mlp               | 0.5833333         | 0.6500000         | 0.5500000         | \n",
       "| dataset_cardio    | rpart             | 0.9026999         | 0.9228273         | 0.8861208         | \n",
       "| dataset_heart     | mlp               | 0.6238312         | 0.7178571         | 0.5833333         | \n",
       "| dataset_hepatitis | rf                | 0.5333333         | 0.6000000         | 0.5000000         | \n",
       "| dataset_ads       | glm               | 0.9013635         | 0.9494595         | 0.8587087         | \n",
       "| dataset_blocks    | rpart             | 0.8899327         | 0.8901465         | 0.8901961         | \n",
       "| dataset_parkinson | mlp               | 0.7466667         | 0.7366667         | 0.8500000         | \n",
       "| dataset_pima      | majority          | 0.4647303         | 0.4827586         | 0.4480000         | \n",
       "| dataset_spam      | rf                | 0.8863591         | 0.9062263         | 0.8687500         | \n",
       "| dataset_stamps    | rpart             | 0.9095238         | 0.9166667         | 0.9083333         | \n",
       "| dataset_wilt      | rf                | 0.8959674         | 0.9173944         | 0.8789231         | \n",
       "\n",
       "\n"
      ],
      "text/plain": [
       "   dataset           ensemble_all ensemble_f1 ensemble_precision\n",
       "1  dataset_aloi      mlp          0.6033737   0.7481859         \n",
       "2  dataset_iono      rf           0.9394954   0.9508059         \n",
       "3  dataset_kdd       rf           0.8743555   0.9493693         \n",
       "4  dataset_pen       rpart        0.9800000   0.9666667         \n",
       "5  dataset_pen       mlp          0.9800000   0.9666667         \n",
       "6  dataset_shuttle   mlp          0.9800000   0.9666667         \n",
       "7  dataset_waveform  glm          0.5782653   0.8482143         \n",
       "8  dataset_wbc       rpart        0.8000000   0.7500000         \n",
       "9  dataset_wdbc      rf           0.8000000   0.8000000         \n",
       "10 dataset_wpbc      rpart        0.4675469   0.6059524         \n",
       "11 dataset_ann       rpart        0.9753529   0.9628702         \n",
       "12 dataset_arr       mlp          0.5833333   0.6500000         \n",
       "13 dataset_cardio    rpart        0.9026999   0.9228273         \n",
       "14 dataset_heart     mlp          0.6238312   0.7178571         \n",
       "15 dataset_hepatitis rf           0.5333333   0.6000000         \n",
       "16 dataset_ads       glm          0.9013635   0.9494595         \n",
       "17 dataset_blocks    rpart        0.8899327   0.8901465         \n",
       "18 dataset_parkinson mlp          0.7466667   0.7366667         \n",
       "19 dataset_pima      majority     0.4647303   0.4827586         \n",
       "20 dataset_spam      rf           0.8863591   0.9062263         \n",
       "21 dataset_stamps    rpart        0.9095238   0.9166667         \n",
       "22 dataset_wilt      rf           0.8959674   0.9173944         \n",
       "   ensemble_recall\n",
       "1  0.5066446      \n",
       "2  0.9352564      \n",
       "3  0.8200000      \n",
       "4  1.0000000      \n",
       "5  1.0000000      \n",
       "6  1.0000000      \n",
       "7  0.4700000      \n",
       "8  0.9000000      \n",
       "9  0.8000000      \n",
       "10 0.4000000      \n",
       "11 0.9888190      \n",
       "12 0.5500000      \n",
       "13 0.8861208      \n",
       "14 0.5833333      \n",
       "15 0.5000000      \n",
       "16 0.8587087      \n",
       "17 0.8901961      \n",
       "18 0.8500000      \n",
       "19 0.4480000      \n",
       "20 0.8687500      \n",
       "21 0.9083333      \n",
       "22 0.8789231      "
      ]
     },
     "metadata": {},
     "output_type": "display_data"
    }
   ],
   "source": [
    "evaluation_ensemble %>% group_by(dataset) %>% top_n(1, ensemble_f1)"
   ]
  },
  {
   "cell_type": "code",
   "execution_count": 14,
   "metadata": {
    "collapsed": true
   },
   "outputs": [],
   "source": [
    "best_ens <- .Last.value"
   ]
  },
  {
   "cell_type": "markdown",
   "metadata": {},
   "source": [
    "Who was the best? Ensemble or algorithm? best in 10 datasets"
   ]
  },
  {
   "cell_type": "code",
   "execution_count": 15,
   "metadata": {},
   "outputs": [
    {
     "data": {
      "text/html": [
       "<table>\n",
       "<thead><tr><th scope=col>dataset</th><th scope=col>algorithm</th><th scope=col>variant</th><th scope=col>algorithm_f1</th><th scope=col>algorithm_precision</th><th scope=col>algorithm_recall</th><th scope=col>ensemble_all</th><th scope=col>ensemble_f1</th><th scope=col>ensemble_precision</th><th scope=col>ensemble_recall</th></tr></thead>\n",
       "<tbody>\n",
       "\t<tr><td>dataset_aloi   </td><td>randomForest   </td><td>rf             </td><td>0.5895966      </td><td>0.6000766      </td><td>0.5795629      </td><td>mlp            </td><td>0.6033737      </td><td>0.7481859      </td><td>0.5066446      </td></tr>\n",
       "\t<tr><td>dataset_iono   </td><td>SVM_radial     </td><td>SVM_radial     </td><td>0.9331795      </td><td>0.9294872      </td><td>0.9371795      </td><td>rf             </td><td>0.9394954      </td><td>0.9508059      </td><td>0.9352564      </td></tr>\n",
       "\t<tr><td>dataset_kdd    </td><td>randomForest   </td><td>rf             </td><td>0.8521795      </td><td>0.8544737      </td><td>0.8500000      </td><td>rf             </td><td>0.8743555      </td><td>0.9493693      </td><td>0.8200000      </td></tr>\n",
       "\t<tr><td>dataset_shuttle</td><td>CART           </td><td>cart           </td><td>0.9000000      </td><td>0.9000000      </td><td>0.9000000      </td><td>mlp            </td><td>0.9800000      </td><td>0.9666667      </td><td>1.0000000      </td></tr>\n",
       "\t<tr><td>dataset_ann    </td><td>randomForest   </td><td>rf             </td><td>0.9739010      </td><td>0.9685185      </td><td>0.9793850      </td><td>rpart          </td><td>0.9753529      </td><td>0.9628702      </td><td>0.9888190      </td></tr>\n",
       "\t<tr><td>dataset_cardio </td><td>randomForest   </td><td>rf             </td><td>0.8990576      </td><td>0.9001742      </td><td>0.8979675      </td><td>rpart          </td><td>0.9026999      </td><td>0.9228273      </td><td>0.8861208      </td></tr>\n",
       "\t<tr><td>dataset_ads    </td><td>randomForest   </td><td>rf             </td><td>0.8803406      </td><td>0.8802553      </td><td>0.8805556      </td><td>glm            </td><td>0.9013635      </td><td>0.9494595      </td><td>0.8587087      </td></tr>\n",
       "\t<tr><td>dataset_blocks </td><td>randomForest   </td><td>rf             </td><td>0.8852068      </td><td>0.8861176      </td><td>0.8843137      </td><td>rpart          </td><td>0.8899327      </td><td>0.8901465      </td><td>0.8901961      </td></tr>\n",
       "\t<tr><td>dataset_spam   </td><td>randomForest   </td><td>rf             </td><td>0.8725144      </td><td>0.8732143      </td><td>0.8718254      </td><td>rf             </td><td>0.8863591      </td><td>0.9062263      </td><td>0.8687500      </td></tr>\n",
       "\t<tr><td>dataset_stamps </td><td>neuralNetwork  </td><td>mlp            </td><td>0.8857143      </td><td>0.8000000      </td><td>1.0000000      </td><td>rpart          </td><td>0.9095238      </td><td>0.9166667      </td><td>0.9083333      </td></tr>\n",
       "</tbody>\n",
       "</table>\n"
      ],
      "text/latex": [
       "\\begin{tabular}{r|llllllllll}\n",
       " dataset & algorithm & variant & algorithm\\_f1 & algorithm\\_precision & algorithm\\_recall & ensemble\\_all & ensemble\\_f1 & ensemble\\_precision & ensemble\\_recall\\\\\n",
       "\\hline\n",
       "\t dataset\\_aloi    & randomForest      & rf                & 0.5895966         & 0.6000766         & 0.5795629         & mlp               & 0.6033737         & 0.7481859         & 0.5066446        \\\\\n",
       "\t dataset\\_iono    & SVM\\_radial      & SVM\\_radial      & 0.9331795         & 0.9294872         & 0.9371795         & rf                & 0.9394954         & 0.9508059         & 0.9352564        \\\\\n",
       "\t dataset\\_kdd     & randomForest      & rf                & 0.8521795         & 0.8544737         & 0.8500000         & rf                & 0.8743555         & 0.9493693         & 0.8200000        \\\\\n",
       "\t dataset\\_shuttle & CART              & cart              & 0.9000000         & 0.9000000         & 0.9000000         & mlp               & 0.9800000         & 0.9666667         & 1.0000000        \\\\\n",
       "\t dataset\\_ann     & randomForest      & rf                & 0.9739010         & 0.9685185         & 0.9793850         & rpart             & 0.9753529         & 0.9628702         & 0.9888190        \\\\\n",
       "\t dataset\\_cardio  & randomForest      & rf                & 0.8990576         & 0.9001742         & 0.8979675         & rpart             & 0.9026999         & 0.9228273         & 0.8861208        \\\\\n",
       "\t dataset\\_ads     & randomForest      & rf                & 0.8803406         & 0.8802553         & 0.8805556         & glm               & 0.9013635         & 0.9494595         & 0.8587087        \\\\\n",
       "\t dataset\\_blocks  & randomForest      & rf                & 0.8852068         & 0.8861176         & 0.8843137         & rpart             & 0.8899327         & 0.8901465         & 0.8901961        \\\\\n",
       "\t dataset\\_spam    & randomForest      & rf                & 0.8725144         & 0.8732143         & 0.8718254         & rf                & 0.8863591         & 0.9062263         & 0.8687500        \\\\\n",
       "\t dataset\\_stamps  & neuralNetwork     & mlp               & 0.8857143         & 0.8000000         & 1.0000000         & rpart             & 0.9095238         & 0.9166667         & 0.9083333        \\\\\n",
       "\\end{tabular}\n"
      ],
      "text/markdown": [
       "\n",
       "dataset | algorithm | variant | algorithm_f1 | algorithm_precision | algorithm_recall | ensemble_all | ensemble_f1 | ensemble_precision | ensemble_recall | \n",
       "|---|---|---|---|---|---|---|---|---|---|\n",
       "| dataset_aloi    | randomForest    | rf              | 0.5895966       | 0.6000766       | 0.5795629       | mlp             | 0.6033737       | 0.7481859       | 0.5066446       | \n",
       "| dataset_iono    | SVM_radial      | SVM_radial      | 0.9331795       | 0.9294872       | 0.9371795       | rf              | 0.9394954       | 0.9508059       | 0.9352564       | \n",
       "| dataset_kdd     | randomForest    | rf              | 0.8521795       | 0.8544737       | 0.8500000       | rf              | 0.8743555       | 0.9493693       | 0.8200000       | \n",
       "| dataset_shuttle | CART            | cart            | 0.9000000       | 0.9000000       | 0.9000000       | mlp             | 0.9800000       | 0.9666667       | 1.0000000       | \n",
       "| dataset_ann     | randomForest    | rf              | 0.9739010       | 0.9685185       | 0.9793850       | rpart           | 0.9753529       | 0.9628702       | 0.9888190       | \n",
       "| dataset_cardio  | randomForest    | rf              | 0.8990576       | 0.9001742       | 0.8979675       | rpart           | 0.9026999       | 0.9228273       | 0.8861208       | \n",
       "| dataset_ads     | randomForest    | rf              | 0.8803406       | 0.8802553       | 0.8805556       | glm             | 0.9013635       | 0.9494595       | 0.8587087       | \n",
       "| dataset_blocks  | randomForest    | rf              | 0.8852068       | 0.8861176       | 0.8843137       | rpart           | 0.8899327       | 0.8901465       | 0.8901961       | \n",
       "| dataset_spam    | randomForest    | rf              | 0.8725144       | 0.8732143       | 0.8718254       | rf              | 0.8863591       | 0.9062263       | 0.8687500       | \n",
       "| dataset_stamps  | neuralNetwork   | mlp             | 0.8857143       | 0.8000000       | 1.0000000       | rpart           | 0.9095238       | 0.9166667       | 0.9083333       | \n",
       "\n",
       "\n"
      ],
      "text/plain": [
       "   dataset         algorithm     variant    algorithm_f1 algorithm_precision\n",
       "1  dataset_aloi    randomForest  rf         0.5895966    0.6000766          \n",
       "2  dataset_iono    SVM_radial    SVM_radial 0.9331795    0.9294872          \n",
       "3  dataset_kdd     randomForest  rf         0.8521795    0.8544737          \n",
       "4  dataset_shuttle CART          cart       0.9000000    0.9000000          \n",
       "5  dataset_ann     randomForest  rf         0.9739010    0.9685185          \n",
       "6  dataset_cardio  randomForest  rf         0.8990576    0.9001742          \n",
       "7  dataset_ads     randomForest  rf         0.8803406    0.8802553          \n",
       "8  dataset_blocks  randomForest  rf         0.8852068    0.8861176          \n",
       "9  dataset_spam    randomForest  rf         0.8725144    0.8732143          \n",
       "10 dataset_stamps  neuralNetwork mlp        0.8857143    0.8000000          \n",
       "   algorithm_recall ensemble_all ensemble_f1 ensemble_precision ensemble_recall\n",
       "1  0.5795629        mlp          0.6033737   0.7481859          0.5066446      \n",
       "2  0.9371795        rf           0.9394954   0.9508059          0.9352564      \n",
       "3  0.8500000        rf           0.8743555   0.9493693          0.8200000      \n",
       "4  0.9000000        mlp          0.9800000   0.9666667          1.0000000      \n",
       "5  0.9793850        rpart        0.9753529   0.9628702          0.9888190      \n",
       "6  0.8979675        rpart        0.9026999   0.9228273          0.8861208      \n",
       "7  0.8805556        glm          0.9013635   0.9494595          0.8587087      \n",
       "8  0.8843137        rpart        0.8899327   0.8901465          0.8901961      \n",
       "9  0.8718254        rf           0.8863591   0.9062263          0.8687500      \n",
       "10 1.0000000        rpart        0.9095238   0.9166667          0.9083333      "
      ]
     },
     "metadata": {},
     "output_type": "display_data"
    }
   ],
   "source": [
    "left_join(best_algs, best_ens, by = \"dataset\") %>% filter(ensemble_f1 > algorithm_f1)"
   ]
  },
  {
   "cell_type": "code",
   "execution_count": 16,
   "metadata": {},
   "outputs": [
    {
     "data": {
      "text/html": [
       "10"
      ],
      "text/latex": [
       "10"
      ],
      "text/markdown": [
       "10"
      ],
      "text/plain": [
       "[1] 10"
      ]
     },
     "metadata": {},
     "output_type": "display_data"
    }
   ],
   "source": [
    "left_join(best_algs, best_ens, by = \"dataset\") %>% filter(ensemble_f1 > algorithm_f1) %>% .$dataset %>% unique %>% length"
   ]
  },
  {
   "cell_type": "markdown",
   "metadata": {},
   "source": [
    "Sup"
   ]
  },
  {
   "cell_type": "code",
   "execution_count": null,
   "metadata": {
    "collapsed": true
   },
   "outputs": [],
   "source": [
    "best_sup <- evaluation_sup %>% group_by(dataset) %>% top_n(1, sup_f1)"
   ]
  },
  {
   "cell_type": "code",
   "execution_count": null,
   "metadata": {
    "collapsed": true
   },
   "outputs": [],
   "source": [
    "best_un <- evaluation_un %>% group_by(dataset) %>% top_n(1, un_f1)"
   ]
  },
  {
   "cell_type": "code",
   "execution_count": null,
   "metadata": {},
   "outputs": [],
   "source": [
    "best_algs %>%\n",
    "  left_join(best_algs_sup, by = \"dataset\") %>%\n",
    "  left_join(best_algs_un, by = \"dataset\") %>%\n",
    "  left_join(best_ens, by = \"dataset\") %>%\n",
    "  left_join(best_sup, by = \"dataset\") %>%\n",
    "  left_join(best_un, by = \"dataset\") %>%\n",
    "  select(-contains(\"precision\"), -contains(\"recall\"))"
   ]
  },
  {
   "cell_type": "code",
   "execution_count": null,
   "metadata": {
    "collapsed": true
   },
   "outputs": [],
   "source": []
  }
 ],
 "metadata": {
  "kernelspec": {
   "display_name": "R",
   "language": "R",
   "name": "ir"
  },
  "language_info": {
   "codemirror_mode": "r",
   "file_extension": ".r",
   "mimetype": "text/x-r-source",
   "name": "R",
   "pygments_lexer": "r",
   "version": "3.4.0"
  }
 },
 "nbformat": 4,
 "nbformat_minor": 2
}
