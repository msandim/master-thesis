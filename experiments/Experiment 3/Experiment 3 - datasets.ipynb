{
 "cells": [
  {
   "cell_type": "code",
   "execution_count": 19,
   "metadata": {
    "collapsed": true
   },
   "outputs": [],
   "source": [
    "setwd(\"~/master-thesis\")\n",
    "set.seed(20)\n",
    "library(dplyr)\n",
    "library(foreign)\n",
    "library(ggplot2)"
   ]
  },
  {
   "cell_type": "code",
   "execution_count": 2,
   "metadata": {
    "collapsed": true
   },
   "outputs": [],
   "source": [
    "number_outliers <- function(dataset)\n",
    "{\n",
    "  table(dataset[, \"outlier\"])\n",
    "}\n",
    "\n",
    "ratio_outliers <- function(dataset)\n",
    "{\n",
    "  (prop.table(table(dataset[, \"outlier\"])) * 100)\n",
    "}"
   ]
  },
  {
   "cell_type": "code",
   "execution_count": 31,
   "metadata": {
    "collapsed": true
   },
   "outputs": [],
   "source": [
    "dataset_aloi <- read.arff(\"datasets/literature/ALOI/ALOI_withoutdupl.arff\") %>% select(-id)\n",
    "dataset_glass <- read.arff(\"datasets/literature/Glass/Glass_withoutdupl_norm.arff\") %>% select(-id)\n",
    "dataset_iono <- read.arff(\"datasets/literature/Ionosphere/Ionosphere_withoutdupl_norm.arff\") %>% select(-id)\n",
    "dataset_kdd <- read.arff(\"datasets/literature/KDDCup99/KDDCup99_withoutdupl_idf.arff\") %>% select(-id)\n",
    "dataset_lym <- read.arff(\"datasets/literature/Lymphography/Lymphography_withoutdupl_idf.arff\") %>% select(-id)\n",
    "dataset_pen <- read.arff(\"datasets/literature/PenDigits/PenDigits_withoutdupl_norm_v01.arff\") %>% select(-id)\n",
    "dataset_shuttle <- read.arff(\"datasets/literature/Shuttle/Shuttle_withoutdupl_v01.arff\") %>% select(-id)\n",
    "dataset_waveform <- read.arff(\"datasets/literature/Waveform/Waveform_withoutdupl_v01.arff\") %>% select(-id)\n",
    "dataset_wbc <- read.arff(\"datasets/literature/WBC/WBC_withoutdupl_v01.arff\") %>% select(-id)\n",
    "dataset_wdbc <- read.arff(\"datasets/literature/WDBC/WDBC_withoutdupl_v01.arff\") %>% select(-id)\n",
    "dataset_wpbc <- read.arff(\"datasets/literature/WPBC/WPBC_withoutdupl_norm.arff\") %>% select(-id)\n",
    "\n",
    "dataset_ann <- read.arff(\"datasets/semantic/Annthyroid/Annthyroid_withoutdupl_07.arff\") %>% select(-id)\n",
    "dataset_arr <- read.arff(\"datasets/semantic/Arrhythmia/Arrhythmia_withoutdupl_10_v01.arff\") %>% select(-id)\n",
    "dataset_cardio <- read.arff(\"datasets/semantic/Cardiotocography/Cardiotocography_withoutdupl_20_v01.arff\") %>% select(-id)\n",
    "dataset_heart <- read.arff(\"datasets/semantic/HeartDisease/HeartDisease_withoutdupl_20_v01.arff\") %>% select(-id)\n",
    "dataset_hepatitis <- read.arff(\"datasets/semantic/Hepatitis/Hepatitis_withoutdupl_16.arff\") %>% select(-id)\n",
    "dataset_ads <- read.arff(\"datasets/semantic/InternetAds/InternetAds_withoutdupl_norm_19.arff\") %>% select(-id)\n",
    "dataset_blocks <- read.arff(\"datasets/semantic/PageBlocks/PageBlocks_withoutdupl_09.arff\") %>% select(-id)\n",
    "dataset_parkinson <- read.arff(\"datasets/semantic/Parkinson/Parkinson_withoutdupl_20_v01.arff\") %>% select(-id)\n",
    "dataset_pima <- read.arff(\"datasets/semantic/Pima/Pima_withoutdupl_20_v01.arff\") %>% select(-id)\n",
    "dataset_spam <- read.arff(\"datasets/semantic/SpamBase/SpamBase_withoutdupl_20_v01.arff\") %>% select(-id)\n",
    "dataset_stamps <- read.arff(\"datasets/semantic/Stamps/Stamps_withoutdupl_09.arff\") %>% select(-id)\n",
    "dataset_wilt <- read.arff(\"datasets/semantic/Wilt/Wilt_withoutdupl_05.arff\") %>% select(-id)\n",
    "\n",
    "datasets <- list(\n",
    "  dataset_aloi = dataset_aloi,\n",
    "  dataset_glass = dataset_glass,\n",
    "  dataset_iono = dataset_iono,\n",
    "  dataset_kdd = dataset_kdd,\n",
    "  dataset_lym = dataset_lym,\n",
    "  dataset_pen = dataset_pen,\n",
    "  dataset_shuttle = dataset_shuttle,\n",
    "  dataset_waveform = dataset_waveform,\n",
    "  dataset_wbc = dataset_wbc,\n",
    "  dataset_wdbc = dataset_wdbc,\n",
    "  dataset_wpbc = dataset_wpbc,\n",
    "  dataset_ann = dataset_ann,\n",
    "  dataset_arr = dataset_arr,\n",
    "  dataset_cardio = dataset_cardio,\n",
    "  dataset_heart = dataset_heart,\n",
    "  dataset_hepatitis = dataset_hepatitis,\n",
    "  dataset_ads = dataset_ads,\n",
    "  dataset_blocks = dataset_blocks,\n",
    "  dataset_parkinson = dataset_parkinson,\n",
    "  dataset_pima = dataset_pima,\n",
    "  dataset_spam = dataset_spam,\n",
    "  dataset_stamps = dataset_stamps,\n",
    "  dataset_wilt = dataset_wilt\n",
    ")"
   ]
  },
  {
   "cell_type": "code",
   "execution_count": 32,
   "metadata": {
    "collapsed": true
   },
   "outputs": [],
   "source": [
    "outliers <- data_frame(dataset = names(sapply(datasets, number_outliers)[\"yes\", ]),\n",
    "                       number_outliers = sapply(datasets, number_outliers)[\"yes\", ],\n",
    "                       ratio_outliers = sapply(datasets, ratio_outliers)[\"yes\", ],\n",
    "                       number_inliers = sapply(datasets, number_outliers)[\"no\", ],\n",
    "                       ratio_inliers = sapply(datasets, ratio_outliers)[\"yes\", ])"
   ]
  },
  {
   "cell_type": "code",
   "execution_count": 33,
   "metadata": {},
   "outputs": [
    {
     "data": {
      "text/html": [
       "<table>\n",
       "<thead><tr><th scope=col>dataset</th><th scope=col>number_outliers</th><th scope=col>ratio_outliers</th><th scope=col>number_inliers</th><th scope=col>ratio_inliers</th></tr></thead>\n",
       "<tbody>\n",
       "\t<tr><td>dataset_aloi     </td><td>1508             </td><td> 3.0443736       </td><td>48026            </td><td> 3.0443736       </td></tr>\n",
       "\t<tr><td>dataset_glass    </td><td>   9             </td><td> 4.2056075       </td><td>  205            </td><td> 4.2056075       </td></tr>\n",
       "\t<tr><td>dataset_iono     </td><td> 126             </td><td>35.8974359       </td><td>  225            </td><td>35.8974359       </td></tr>\n",
       "\t<tr><td>dataset_kdd      </td><td> 200             </td><td> 0.4156881       </td><td>47913            </td><td> 0.4156881       </td></tr>\n",
       "\t<tr><td>dataset_lym      </td><td>   6             </td><td> 4.0540541       </td><td>  142            </td><td> 4.0540541       </td></tr>\n",
       "\t<tr><td>dataset_pen      </td><td>  20             </td><td> 0.2026753       </td><td> 9848            </td><td> 0.2026753       </td></tr>\n",
       "\t<tr><td>dataset_shuttle  </td><td>  13             </td><td> 1.2833169       </td><td> 1000            </td><td> 1.2833169       </td></tr>\n",
       "\t<tr><td>dataset_waveform </td><td> 100             </td><td> 2.9044438       </td><td> 3343            </td><td> 2.9044438       </td></tr>\n",
       "\t<tr><td>dataset_wbc      </td><td>  10             </td><td> 4.4843049       </td><td>  213            </td><td> 4.4843049       </td></tr>\n",
       "\t<tr><td>dataset_wdbc     </td><td>  10             </td><td> 2.7247956       </td><td>  357            </td><td> 2.7247956       </td></tr>\n",
       "\t<tr><td>dataset_wpbc     </td><td>  47             </td><td>23.7373737       </td><td>  151            </td><td>23.7373737       </td></tr>\n",
       "\t<tr><td>dataset_ann      </td><td> 534             </td><td> 7.4905316       </td><td> 6595            </td><td> 7.4905316       </td></tr>\n",
       "\t<tr><td>dataset_arr      </td><td>  27             </td><td> 9.9630996       </td><td>  244            </td><td> 9.9630996       </td></tr>\n",
       "\t<tr><td>dataset_cardio   </td><td> 412             </td><td>20.0000000       </td><td> 1648            </td><td>20.0000000       </td></tr>\n",
       "\t<tr><td>dataset_heart    </td><td>  37             </td><td>19.7860963       </td><td>  150            </td><td>19.7860963       </td></tr>\n",
       "\t<tr><td>dataset_hepatitis</td><td>  13             </td><td>16.2500000       </td><td>   67            </td><td>16.2500000       </td></tr>\n",
       "\t<tr><td>dataset_ads      </td><td> 368             </td><td>18.7182096       </td><td> 1598            </td><td>18.7182096       </td></tr>\n",
       "\t<tr><td>dataset_blocks   </td><td> 510             </td><td> 9.4567031       </td><td> 4883            </td><td> 9.4567031       </td></tr>\n",
       "\t<tr><td>dataset_parkinson</td><td>  12             </td><td>20.0000000       </td><td>   48            </td><td>20.0000000       </td></tr>\n",
       "\t<tr><td>dataset_pima     </td><td> 125             </td><td>20.0000000       </td><td>  500            </td><td>20.0000000       </td></tr>\n",
       "\t<tr><td>dataset_spam     </td><td> 632             </td><td>20.0000000       </td><td> 2528            </td><td>20.0000000       </td></tr>\n",
       "\t<tr><td>dataset_stamps   </td><td>  31             </td><td> 9.1176471       </td><td>  309            </td><td> 9.1176471       </td></tr>\n",
       "\t<tr><td>dataset_wilt     </td><td> 257             </td><td> 5.3330567       </td><td> 4562            </td><td> 5.3330567       </td></tr>\n",
       "</tbody>\n",
       "</table>\n"
      ],
      "text/latex": [
       "\\begin{tabular}{r|lllll}\n",
       " dataset & number\\_outliers & ratio\\_outliers & number\\_inliers & ratio\\_inliers\\\\\n",
       "\\hline\n",
       "\t dataset\\_aloi      & 1508                &  3.0443736          & 48026               &  3.0443736         \\\\\n",
       "\t dataset\\_glass     &    9                &  4.2056075          &   205               &  4.2056075         \\\\\n",
       "\t dataset\\_iono      &  126                & 35.8974359          &   225               & 35.8974359         \\\\\n",
       "\t dataset\\_kdd       &  200                &  0.4156881          & 47913               &  0.4156881         \\\\\n",
       "\t dataset\\_lym       &    6                &  4.0540541          &   142               &  4.0540541         \\\\\n",
       "\t dataset\\_pen       &   20                &  0.2026753          &  9848               &  0.2026753         \\\\\n",
       "\t dataset\\_shuttle   &   13                &  1.2833169          &  1000               &  1.2833169         \\\\\n",
       "\t dataset\\_waveform  &  100                &  2.9044438          &  3343               &  2.9044438         \\\\\n",
       "\t dataset\\_wbc       &   10                &  4.4843049          &   213               &  4.4843049         \\\\\n",
       "\t dataset\\_wdbc      &   10                &  2.7247956          &   357               &  2.7247956         \\\\\n",
       "\t dataset\\_wpbc      &   47                & 23.7373737          &   151               & 23.7373737         \\\\\n",
       "\t dataset\\_ann       &  534                &  7.4905316          &  6595               &  7.4905316         \\\\\n",
       "\t dataset\\_arr       &   27                &  9.9630996          &   244               &  9.9630996         \\\\\n",
       "\t dataset\\_cardio    &  412                & 20.0000000          &  1648               & 20.0000000         \\\\\n",
       "\t dataset\\_heart     &   37                & 19.7860963          &   150               & 19.7860963         \\\\\n",
       "\t dataset\\_hepatitis &   13                & 16.2500000          &    67               & 16.2500000         \\\\\n",
       "\t dataset\\_ads       &  368                & 18.7182096          &  1598               & 18.7182096         \\\\\n",
       "\t dataset\\_blocks    &  510                &  9.4567031          &  4883               &  9.4567031         \\\\\n",
       "\t dataset\\_parkinson &   12                & 20.0000000          &    48               & 20.0000000         \\\\\n",
       "\t dataset\\_pima      &  125                & 20.0000000          &   500               & 20.0000000         \\\\\n",
       "\t dataset\\_spam      &  632                & 20.0000000          &  2528               & 20.0000000         \\\\\n",
       "\t dataset\\_stamps    &   31                &  9.1176471          &   309               &  9.1176471         \\\\\n",
       "\t dataset\\_wilt      &  257                &  5.3330567          &  4562               &  5.3330567         \\\\\n",
       "\\end{tabular}\n"
      ],
      "text/markdown": [
       "\n",
       "dataset | number_outliers | ratio_outliers | number_inliers | ratio_inliers | \n",
       "|---|---|---|---|---|---|---|---|---|---|---|---|---|---|---|---|---|---|---|---|---|---|---|\n",
       "| dataset_aloi      | 1508              |  3.0443736        | 48026             |  3.0443736        | \n",
       "| dataset_glass     |    9              |  4.2056075        |   205             |  4.2056075        | \n",
       "| dataset_iono      |  126              | 35.8974359        |   225             | 35.8974359        | \n",
       "| dataset_kdd       |  200              |  0.4156881        | 47913             |  0.4156881        | \n",
       "| dataset_lym       |    6              |  4.0540541        |   142             |  4.0540541        | \n",
       "| dataset_pen       |   20              |  0.2026753        |  9848             |  0.2026753        | \n",
       "| dataset_shuttle   |   13              |  1.2833169        |  1000             |  1.2833169        | \n",
       "| dataset_waveform  |  100              |  2.9044438        |  3343             |  2.9044438        | \n",
       "| dataset_wbc       |   10              |  4.4843049        |   213             |  4.4843049        | \n",
       "| dataset_wdbc      |   10              |  2.7247956        |   357             |  2.7247956        | \n",
       "| dataset_wpbc      |   47              | 23.7373737        |   151             | 23.7373737        | \n",
       "| dataset_ann       |  534              |  7.4905316        |  6595             |  7.4905316        | \n",
       "| dataset_arr       |   27              |  9.9630996        |   244             |  9.9630996        | \n",
       "| dataset_cardio    |  412              | 20.0000000        |  1648             | 20.0000000        | \n",
       "| dataset_heart     |   37              | 19.7860963        |   150             | 19.7860963        | \n",
       "| dataset_hepatitis |   13              | 16.2500000        |    67             | 16.2500000        | \n",
       "| dataset_ads       |  368              | 18.7182096        |  1598             | 18.7182096        | \n",
       "| dataset_blocks    |  510              |  9.4567031        |  4883             |  9.4567031        | \n",
       "| dataset_parkinson |   12              | 20.0000000        |    48             | 20.0000000        | \n",
       "| dataset_pima      |  125              | 20.0000000        |   500             | 20.0000000        | \n",
       "| dataset_spam      |  632              | 20.0000000        |  2528             | 20.0000000        | \n",
       "| dataset_stamps    |   31              |  9.1176471        |   309             |  9.1176471        | \n",
       "| dataset_wilt      |  257              |  5.3330567        |  4562             |  5.3330567        | \n",
       "\n",
       "\n"
      ],
      "text/plain": [
       "   dataset           number_outliers ratio_outliers number_inliers\n",
       "1  dataset_aloi      1508             3.0443736     48026         \n",
       "2  dataset_glass        9             4.2056075       205         \n",
       "3  dataset_iono       126            35.8974359       225         \n",
       "4  dataset_kdd        200             0.4156881     47913         \n",
       "5  dataset_lym          6             4.0540541       142         \n",
       "6  dataset_pen         20             0.2026753      9848         \n",
       "7  dataset_shuttle     13             1.2833169      1000         \n",
       "8  dataset_waveform   100             2.9044438      3343         \n",
       "9  dataset_wbc         10             4.4843049       213         \n",
       "10 dataset_wdbc        10             2.7247956       357         \n",
       "11 dataset_wpbc        47            23.7373737       151         \n",
       "12 dataset_ann        534             7.4905316      6595         \n",
       "13 dataset_arr         27             9.9630996       244         \n",
       "14 dataset_cardio     412            20.0000000      1648         \n",
       "15 dataset_heart       37            19.7860963       150         \n",
       "16 dataset_hepatitis   13            16.2500000        67         \n",
       "17 dataset_ads        368            18.7182096      1598         \n",
       "18 dataset_blocks     510             9.4567031      4883         \n",
       "19 dataset_parkinson   12            20.0000000        48         \n",
       "20 dataset_pima       125            20.0000000       500         \n",
       "21 dataset_spam       632            20.0000000      2528         \n",
       "22 dataset_stamps      31             9.1176471       309         \n",
       "23 dataset_wilt       257             5.3330567      4562         \n",
       "   ratio_inliers\n",
       "1   3.0443736   \n",
       "2   4.2056075   \n",
       "3  35.8974359   \n",
       "4   0.4156881   \n",
       "5   4.0540541   \n",
       "6   0.2026753   \n",
       "7   1.2833169   \n",
       "8   2.9044438   \n",
       "9   4.4843049   \n",
       "10  2.7247956   \n",
       "11 23.7373737   \n",
       "12  7.4905316   \n",
       "13  9.9630996   \n",
       "14 20.0000000   \n",
       "15 19.7860963   \n",
       "16 16.2500000   \n",
       "17 18.7182096   \n",
       "18  9.4567031   \n",
       "19 20.0000000   \n",
       "20 20.0000000   \n",
       "21 20.0000000   \n",
       "22  9.1176471   \n",
       "23  5.3330567   "
      ]
     },
     "metadata": {},
     "output_type": "display_data"
    }
   ],
   "source": [
    "outliers"
   ]
  },
  {
   "cell_type": "code",
   "execution_count": 34,
   "metadata": {},
   "outputs": [
    {
     "data": {},
     "metadata": {},
     "output_type": "display_data"
    },
    {
     "data": {
      "image/png": "[encoded data removed]",
      "text/plain": [
       "plot without title"
      ]
     },
     "metadata": {},
     "output_type": "display_data"
    }
   ],
   "source": [
    "ggplot(outliers, aes(ratio_outliers)) +\n",
    "  geom_histogram(bins = 10)"
   ]
  },
  {
   "cell_type": "code",
   "execution_count": null,
   "metadata": {
    "collapsed": true
   },
   "outputs": [],
   "source": []
  }
 ],
 "metadata": {
  "kernelspec": {
   "display_name": "R",
   "language": "R",
   "name": "ir"
  },
  "language_info": {
   "codemirror_mode": "r",
   "file_extension": ".r",
   "mimetype": "text/x-r-source",
   "name": "R",
   "pygments_lexer": "r",
   "version": "3.4.0"
  }
 },
 "nbformat": 4,
 "nbformat_minor": 2
}
